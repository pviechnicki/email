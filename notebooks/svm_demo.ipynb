{
 "cells": [
  {
   "cell_type": "code",
   "execution_count": 64,
   "metadata": {
    "collapsed": true
   },
   "outputs": [],
   "source": [
    "import pandas as pd\n",
    "import nltk\n",
    "from sklearn.svm import SVC\n",
    "from nltk.corpus import stopwords\n",
    "from nltk.stem.snowball import SnowballStemmer\n",
    "import string\n",
    "from sklearn.feature_extraction.text import TfidfVectorizer\n",
    "from collections import Counter\n",
    "from nltk.probability import FreqDist, ConditionalFreqDist\n",
    "import matplotlib.pyplot as plt\n",
    "from matplotlib import cm\n",
    "from sklearn import metrics\n"
   ]
  },
  {
   "cell_type": "code",
   "execution_count": 4,
   "metadata": {},
   "outputs": [
    {
     "name": "stdout",
     "output_type": "stream",
     "text": [
      "                                                body sensitivity\n",
      "0                                    lets grab lunch    Personal\n",
      "1               I have a meeting with the ambassador    Official\n",
      "2        Attached are meeting notes about the report    Official\n",
      "3                   The ambassador is arriving today    Official\n",
      "4  We have a lunch date today but my daughter is ...    Personal\n"
     ]
    }
   ],
   "source": [
    "data = pd.read_csv('C:/Users/embicks/Documents/DOTCE/email_marker/email/data/Input/svm_test.csv')\n",
    "print(data.head())"
   ]
  },
  {
   "cell_type": "code",
   "execution_count": 5,
   "metadata": {},
   "outputs": [
    {
     "data": {
      "text/plain": [
       "False    5\n",
       "True     4\n",
       "Name: personal, dtype: int64"
      ]
     },
     "execution_count": 5,
     "metadata": {},
     "output_type": "execute_result"
    }
   ],
   "source": [
    "#Add new column to dataframe with True if sensitivity == personal\n",
    "#Edit the column names and truth conditions to match your data\n",
    "data['personal'] = (data['sensitivity'] == 'Personal')\n",
    "#Create a vector of class labels\n",
    "class_labels = data['personal']\n",
    "#use value_counts() method of series\n",
    "class_labels.value_counts()"
   ]
  },
  {
   "cell_type": "code",
   "execution_count": 6,
   "metadata": {},
   "outputs": [
    {
     "name": "stdout",
     "output_type": "stream",
     "text": [
      "                                                body sensitivity  personal\n",
      "5          Where would you like to go to lunch today    Personal      True\n",
      "6                     What time is the meeting today    Official     False\n",
      "7                        There is a report due today    Official     False\n",
      "8  My son is sick so I will be staying home today...    Personal      True\n",
      "                                                body sensitivity  personal\n",
      "0                                    lets grab lunch    Personal      True\n",
      "1               I have a meeting with the ambassador    Official     False\n",
      "2        Attached are meeting notes about the report    Official     False\n",
      "3                   The ambassador is arriving today    Official     False\n",
      "4  We have a lunch date today but my daughter is ...    Personal      True\n"
     ]
    }
   ],
   "source": [
    "train_df = data.iloc[:5]\n",
    "test_df = data.iloc[5:]\n",
    "class_labels_training = list(train_df['personal'])\n",
    "class_labels_test = list(test_df['personal'])\n",
    "value_counts = nltk.FreqDist(class_labels_training)\n",
    "print(test_df)\n",
    "print(train_df)"
   ]
  },
  {
   "cell_type": "code",
   "execution_count": 7,
   "metadata": {
    "collapsed": true
   },
   "outputs": [],
   "source": [
    "snowballStemmer = SnowballStemmer(\"english\", ignore_stopwords=True)\n",
    "def preprocess(text):\n",
    "    no_punctuation_text = ''\n",
    "    if (type(text)== str):\n",
    "        lower_text = text.lower()\n",
    "        no_punctuation_text = lower_text.translate({ord(c):'' for c in string.punctuation})\n",
    "    return no_punctuation_text\n",
    "\n",
    "def myTokenize(text):\n",
    "    global snowballStemmer\n",
    "    tokens = []\n",
    "    cleaned = preprocess(text)\n",
    "    tokens = nltk.word_tokenize(cleaned)\n",
    "    filtered = [w for w in tokens if not w in stopwords.words('english')]\n",
    "    stemmed = [w for w in map(snowballStemmer.stem, filtered)]\n",
    "    return stemmed\n"
   ]
  },
  {
   "cell_type": "code",
   "execution_count": 12,
   "metadata": {
    "collapsed": true
   },
   "outputs": [],
   "source": [
    "#define vocabulary\n",
    "vocabulary = ['lunch', 'today', 'sick', 'meeting', 'time', 'home', 'ambassador']"
   ]
  },
  {
   "cell_type": "code",
   "execution_count": 13,
   "metadata": {},
   "outputs": [
    {
     "name": "stdout",
     "output_type": "stream",
     "text": [
      "{'lunch': 1.6931471805599454, 'today': 1.6931471805599454, 'sick': 2.09861228866811, 'meeting': 2.791759469228055, 'time': 2.791759469228055, 'home': 2.791759469228055, 'ambassador': 1.6931471805599454}\n"
     ]
    }
   ],
   "source": [
    "##Instantiate a TFidf vectorizer\n",
    "vectorizer = TfidfVectorizer(sublinear_tf=True, encoding='utf-8', \n",
    "                             max_df=0.5, tokenizer=myTokenize, vocabulary = vocabulary)\n",
    "train_X = vectorizer.fit_transform(train_df['body'])\n",
    "feature_names = vectorizer.get_feature_names()\n",
    "idf = vectorizer.idf_\n",
    "word_weight_dict = dict(zip(vectorizer.get_feature_names(), idf))\n",
    "print(word_weight_dict)"
   ]
  },
  {
   "cell_type": "code",
   "execution_count": 14,
   "metadata": {},
   "outputs": [
    {
     "data": {
      "text/plain": [
       "SVC(C=1.0, cache_size=200, class_weight=None, coef0=0.0,\n",
       "  decision_function_shape=None, degree=3, gamma='auto', kernel='linear',\n",
       "  max_iter=-1, probability=True, random_state=None, shrinking=True,\n",
       "  tol=0.001, verbose=False)"
      ]
     },
     "execution_count": 14,
     "metadata": {},
     "output_type": "execute_result"
    }
   ],
   "source": [
    "#train svm model\n",
    "model_svm = SVC(kernel = 'linear', probability=True)\n",
    "model_svm.fit(train_X, class_labels_training)"
   ]
  },
  {
   "cell_type": "code",
   "execution_count": 82,
   "metadata": {},
   "outputs": [
    {
     "name": "stdout",
     "output_type": "stream",
     "text": [
      "[ True False False False]\n",
      "             precision    recall  f1-score   support\n",
      "\n",
      "      False       0.67      1.00      0.80         2\n",
      "       True       1.00      0.50      0.67         2\n",
      "\n",
      "avg / total       0.83      0.75      0.73         4\n",
      "\n"
     ]
    }
   ],
   "source": [
    "#get predictions from svm model\n",
    "test_X = vectorizer.fit_transform(test_df['body'])\n",
    "test_word_weight_dict = dict(zip(vectorizer.get_feature_names(), idf))\n",
    "predictions = model_svm.predict( test_X )\n",
    "predict_probs = model_svm.predict_proba(test_X)\n",
    "print(predictions)\n",
    "\n",
    "\n",
    "print(metrics.classification_report(class_labels_test, predictions))\n"
   ]
  },
  {
   "cell_type": "code",
   "execution_count": 31,
   "metadata": {},
   "outputs": [
    {
     "name": "stdout",
     "output_type": "stream",
     "text": [
      "{'ambassador': -0.65203996377860873, 'today': -0.12026771005052994, 'home': 0.0, 'meeting': 0.0, 'time': 0.0, 'sick': 0.65911800182510549, 'lunch': 1.4538960137130488}\n"
     ]
    }
   ],
   "source": [
    "#get feature coefficients from model\n",
    "coef = model_svm.coef_.toarray()\n",
    "top_coefficients = sorted(zip(coef[0], feature_names))\n",
    "coefficient_dict = {}\n",
    "for coef, word in top_coefficients:\n",
    "    coefficient_dict[word] = coef\n",
    "print(coefficient_dict)    \n"
   ]
  },
  {
   "cell_type": "code",
   "execution_count": 85,
   "metadata": {},
   "outputs": [
    {
     "name": "stdout",
     "output_type": "stream",
     "text": [
      "[True, False, False, True]\n",
      "[ 2.57647332]\n",
      "             precision    recall  f1-score   support\n",
      "\n",
      "      False       1.00      1.00      1.00         2\n",
      "       True       1.00      1.00      1.00         2\n",
      "\n",
      "avg / total       1.00      1.00      1.00         4\n",
      "\n"
     ]
    }
   ],
   "source": [
    "#manually calculate predictions from tfidf scores and model coefficients\n",
    "predictions = []\n",
    "for i, row in test_df.iterrows():\n",
    "    predict_val = 0\n",
    "    message = row['body']\n",
    "    text= myTokenize(message)\n",
    "    for word in text:\n",
    "        try:\n",
    "            model_coef = coefficient_dict[word]\n",
    "            tfidf_score = word_weight_dict[word]\n",
    "            word_score = model_coef*tfidf_score\n",
    "            predict_val += word_score\n",
    "        except:\n",
    "            predict_val += 0\n",
    "    if predict_val >0 :\n",
    "        prediction = True\n",
    "    else:\n",
    "        prediction = False\n",
    "    predictions.append(prediction)\n",
    "print(predictions)\n",
    "print(model_svm.intercept_)\n",
    "print(metrics.classification_report(class_labels_test, predictions))\n",
    "    "
   ]
  },
  {
   "cell_type": "code",
   "execution_count": 86,
   "metadata": {},
   "outputs": [
    {
     "data": {
      "image/png": "[encoded data removed]",
      "text/plain": [
       "<matplotlib.figure.Figure at 0x1e64a5209b0>"
      ]
     },
     "metadata": {},
     "output_type": "display_data"
    }
   ],
   "source": [
    "#plot most informative features\n",
    "\n",
    "plt.bar(range(len(coefficient_dict)), list(coefficient_dict.values()), align='center')\n",
    "plt.xticks(range(len(coefficient_dict)), list(coefficient_dict.keys()), rotation = '90')\n",
    "plt.show()"
   ]
  }
 ],
 "metadata": {
  "kernelspec": {
   "display_name": "Python 3",
   "language": "python",
   "name": "python3"
  },
  "language_info": {
   "codemirror_mode": {
    "name": "ipython",
    "version": 3
   },
   "file_extension": ".py",
   "mimetype": "text/x-python",
   "name": "python",
   "nbconvert_exporter": "python",
   "pygments_lexer": "ipython3",
   "version": "3.6.1"
  }
 },
 "nbformat": 4,
 "nbformat_minor": 2
}
