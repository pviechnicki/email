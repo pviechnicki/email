{
 "cells": [
  {
   "cell_type": "markdown",
   "metadata": {},
   "source": [
    "## Federal registry API pull\n"
   ]
  },
  {
   "cell_type": "markdown",
   "metadata": {},
   "source": [
    "https://www.federalregister.gov/developers/api/v1  \n",
    "https://www.federalregister.gov/agencies"
   ]
  },
  {
   "cell_type": "code",
   "execution_count": 1,
   "metadata": {},
   "outputs": [],
   "source": [
    "import json\n",
    "import requests\n",
    "from bs4 import BeautifulSoup\n",
    "import json\n",
    "import re\n",
    "import urllib\n",
    "import pandas as pd\n",
    "import numpy as np\n",
    "from pandas.io.json import json_normalize"
   ]
  },
  {
   "cell_type": "code",
   "execution_count": 2,
   "metadata": {},
   "outputs": [],
   "source": [
    "# Pull from all agencies\n",
    "number='2000'\n",
    "page='2'\n",
    "url='https://www.federalregister.gov/api/v1/documents.json?order=relevance&page='+page+'&per_page='+number"
   ]
  },
  {
   "cell_type": "code",
   "execution_count": 3,
   "metadata": {},
   "outputs": [],
   "source": [
    "# Specify a single agency\n",
    "# number='20'\n",
    "# string='defense-department'\n",
    "# url = \"https://www.federalregister.gov/api/v1/documents.json?per_page=\"+number+\"&order=relevance&conditions%5Bagencies%5D%5B%5D=\" + string"
   ]
  },
  {
   "cell_type": "code",
   "execution_count": 4,
   "metadata": {},
   "outputs": [
    {
     "data": {
      "text/plain": [
       "5"
      ]
     },
     "execution_count": 4,
     "metadata": {},
     "output_type": "execute_result"
    }
   ],
   "source": [
    "# get request\n",
    "response = requests.get(url).json()\n",
    "len(response)"
   ]
  },
  {
   "cell_type": "markdown",
   "metadata": {},
   "source": [
    "## Parse the response of the get request"
   ]
  },
  {
   "cell_type": "code",
   "execution_count": 5,
   "metadata": {},
   "outputs": [
    {
     "data": {
      "text/plain": [
       "dict_keys(['count', 'description', 'total_pages', 'previous_page_url', 'results'])"
      ]
     },
     "execution_count": 5,
     "metadata": {},
     "output_type": "execute_result"
    }
   ],
   "source": [
    "response.keys()"
   ]
  },
  {
   "cell_type": "code",
   "execution_count": 6,
   "metadata": {},
   "outputs": [
    {
     "data": {
      "text/plain": [
       "['count', 'description', 'total_pages', 'previous_page_url', 'results']"
      ]
     },
     "execution_count": 6,
     "metadata": {},
     "output_type": "execute_result"
    }
   ],
   "source": [
    "list(response)"
   ]
  },
  {
   "cell_type": "code",
   "execution_count": 8,
   "metadata": {},
   "outputs": [
    {
     "name": "stdout",
     "output_type": "stream",
     "text": [
      "778626\n",
      "All Documents\n",
      "5\n"
     ]
    }
   ],
   "source": [
    "print(response['count'])\n",
    "print(response['description'])\n",
    "print(response['total_pages'])\n",
    "print(response['next_page_url'])"
   ]
  },
  {
   "cell_type": "markdown",
   "metadata": {},
   "source": [
    "### Look at the results"
   ]
  },
  {
   "cell_type": "code",
   "execution_count": 9,
   "metadata": {},
   "outputs": [
    {
     "data": {
      "text/plain": [
       "{'abstract': None,\n",
       " 'agencies': [{'id': 188,\n",
       "   'json_url': 'https://www.federalregister.gov/api/v1/agencies/188.json',\n",
       "   'name': 'Federal Reserve System',\n",
       "   'parent_id': None,\n",
       "   'raw_name': 'FEDERAL RESERVE SYSTEM',\n",
       "   'slug': 'federal-reserve-system',\n",
       "   'url': 'https://www.federalregister.gov/agencies/federal-reserve-system'}],\n",
       " 'document_number': '2018-02635',\n",
       " 'excerpts': None,\n",
       " 'html_url': 'https://www.federalregister.gov/documents/2018/02/09/2018-02635/formations-of-acquisitions-by-and-mergers-of-bank-holding-companies',\n",
       " 'pdf_url': 'https://www.gpo.gov/fdsys/pkg/FR-2018-02-09/pdf/2018-02635.pdf',\n",
       " 'public_inspection_pdf_url': 'https://s3.amazonaws.com/public-inspection.federalregister.gov/2018-02635.pdf?1518097574',\n",
       " 'publication_date': '2018-02-09',\n",
       " 'title': 'Formations of, Acquisitions by, and Mergers of Bank Holding Companies',\n",
       " 'type': 'Notice'}"
      ]
     },
     "execution_count": 9,
     "metadata": {},
     "output_type": "execute_result"
    }
   ],
   "source": [
    "response['results'][0]"
   ]
  },
  {
   "cell_type": "code",
   "execution_count": 10,
   "metadata": {},
   "outputs": [
    {
     "data": {
      "text/plain": [
       "10"
      ]
     },
     "execution_count": 10,
     "metadata": {},
     "output_type": "execute_result"
    }
   ],
   "source": [
    "len(response['results'][0])"
   ]
  },
  {
   "cell_type": "code",
   "execution_count": 11,
   "metadata": {},
   "outputs": [
    {
     "data": {
      "text/plain": [
       "dict_keys(['title', 'type', 'abstract', 'document_number', 'html_url', 'pdf_url', 'public_inspection_pdf_url', 'publication_date', 'agencies', 'excerpts'])"
      ]
     },
     "execution_count": 11,
     "metadata": {},
     "output_type": "execute_result"
    }
   ],
   "source": [
    "# Response has 10 keys\n",
    "response['results'][0].keys()"
   ]
  },
  {
   "cell_type": "code",
   "execution_count": 12,
   "metadata": {},
   "outputs": [
    {
     "data": {
      "text/plain": [
       "dict_keys(['raw_name', 'name', 'id', 'url', 'json_url', 'parent_id', 'slug'])"
      ]
     },
     "execution_count": 12,
     "metadata": {},
     "output_type": "execute_result"
    }
   ],
   "source": [
    "# One of those keys, agencies, is a dictionary with 7 additional keys\n",
    "response['results'][0]['agencies'][0].keys()"
   ]
  },
  {
   "cell_type": "markdown",
   "metadata": {},
   "source": [
    "## Flatten the file"
   ]
  },
  {
   "cell_type": "code",
   "execution_count": 13,
   "metadata": {},
   "outputs": [],
   "source": [
    "# Flatten the dataset, WITHOUT creating duplicate rows when two agencies are listed.\n",
    "df = json_normalize(response['results'])"
   ]
  },
  {
   "cell_type": "code",
   "execution_count": 14,
   "metadata": {},
   "outputs": [],
   "source": [
    "# Flatten the \"agencies\" dictionary column into a new dataset\n",
    "df2 = pd.DataFrame(df['agencies'].values.tolist(), index=df.index)"
   ]
  },
  {
   "cell_type": "code",
   "execution_count": 15,
   "metadata": {},
   "outputs": [],
   "source": [
    "# Extract the name of the sub-agency as a separate column\n",
    "def extractor (col):\n",
    "    try:\n",
    "        return(col['name'])\n",
    "    except:\n",
    "        pass\n",
    "df2['subagency']=df2[1].apply(extractor)"
   ]
  },
  {
   "cell_type": "code",
   "execution_count": 16,
   "metadata": {},
   "outputs": [],
   "source": [
    "# Flatten the first agency and its metadata into a separate dataset\n",
    "df3=pd.DataFrame(df2[0].values.tolist(), index=df2.index)"
   ]
  },
  {
   "cell_type": "code",
   "execution_count": 17,
   "metadata": {},
   "outputs": [],
   "source": [
    "# Join the first-agency dataset with the subagency column\n",
    "df4=df3.join(df2, how='outer').drop([0,1], axis=1)"
   ]
  },
  {
   "cell_type": "code",
   "execution_count": 18,
   "metadata": {},
   "outputs": [],
   "source": [
    "# Join that dataset into the original dataset of Registry entries\n",
    "df5=df.join(df4,how='outer').drop('agencies', axis=1)"
   ]
  },
  {
   "cell_type": "code",
   "execution_count": 19,
   "metadata": {},
   "outputs": [
    {
     "name": "stdout",
     "output_type": "stream",
     "text": [
      "(2000, 31)\n",
      "Index([                 'abstract',           'document_number',\n",
      "                        'excerpts',                  'html_url',\n",
      "                         'pdf_url', 'public_inspection_pdf_url',\n",
      "                'publication_date',                     'title',\n",
      "                            'type',                        'id',\n",
      "                        'json_url',                      'name',\n",
      "                       'parent_id',                  'raw_name',\n",
      "                            'slug',                       'url',\n",
      "                                 2,                           3,\n",
      "                                 4,                           5,\n",
      "                                 6,                           7,\n",
      "                                 8,                           9,\n",
      "                                10,                          11,\n",
      "                                12,                          13,\n",
      "                                14,                          15,\n",
      "                       'subagency'],\n",
      "      dtype='object')\n"
     ]
    }
   ],
   "source": [
    "print(df5.shape)\n",
    "print(df5.columns)"
   ]
  },
  {
   "cell_type": "code",
   "execution_count": 20,
   "metadata": {},
   "outputs": [
    {
     "data": {
      "text/html": [
       "<div>\n",
       "<style scoped>\n",
       "    .dataframe tbody tr th:only-of-type {\n",
       "        vertical-align: middle;\n",
       "    }\n",
       "\n",
       "    .dataframe tbody tr th {\n",
       "        vertical-align: top;\n",
       "    }\n",
       "\n",
       "    .dataframe thead th {\n",
       "        text-align: right;\n",
       "    }\n",
       "</style>\n",
       "<table border=\"1\" class=\"dataframe\">\n",
       "  <thead>\n",
       "    <tr style=\"text-align: right;\">\n",
       "      <th></th>\n",
       "      <th>abstract</th>\n",
       "      <th>document_number</th>\n",
       "      <th>excerpts</th>\n",
       "      <th>html_url</th>\n",
       "      <th>pdf_url</th>\n",
       "      <th>public_inspection_pdf_url</th>\n",
       "      <th>publication_date</th>\n",
       "      <th>title</th>\n",
       "      <th>type</th>\n",
       "      <th>id</th>\n",
       "      <th>...</th>\n",
       "      <th>7</th>\n",
       "      <th>8</th>\n",
       "      <th>9</th>\n",
       "      <th>10</th>\n",
       "      <th>11</th>\n",
       "      <th>12</th>\n",
       "      <th>13</th>\n",
       "      <th>14</th>\n",
       "      <th>15</th>\n",
       "      <th>subagency</th>\n",
       "    </tr>\n",
       "  </thead>\n",
       "  <tbody>\n",
       "    <tr>\n",
       "      <th>0</th>\n",
       "      <td>None</td>\n",
       "      <td>2018-02635</td>\n",
       "      <td>None</td>\n",
       "      <td>https://www.federalregister.gov/documents/2018...</td>\n",
       "      <td>https://www.gpo.gov/fdsys/pkg/FR-2018-02-09/pd...</td>\n",
       "      <td>https://s3.amazonaws.com/public-inspection.fed...</td>\n",
       "      <td>2018-02-09</td>\n",
       "      <td>Formations of, Acquisitions by, and Mergers of...</td>\n",
       "      <td>Notice</td>\n",
       "      <td>188</td>\n",
       "      <td>...</td>\n",
       "      <td>None</td>\n",
       "      <td>None</td>\n",
       "      <td>None</td>\n",
       "      <td>None</td>\n",
       "      <td>None</td>\n",
       "      <td>None</td>\n",
       "      <td>None</td>\n",
       "      <td>None</td>\n",
       "      <td>None</td>\n",
       "      <td>None</td>\n",
       "    </tr>\n",
       "    <tr>\n",
       "      <th>1</th>\n",
       "      <td>Under the provisions of the Paperwork Reductio...</td>\n",
       "      <td>2018-02587</td>\n",
       "      <td>Under the provisions of the Paperwork Reductio...</td>\n",
       "      <td>https://www.federalregister.gov/documents/2018...</td>\n",
       "      <td>https://www.gpo.gov/fdsys/pkg/FR-2018-02-09/pd...</td>\n",
       "      <td>https://s3.amazonaws.com/public-inspection.fed...</td>\n",
       "      <td>2018-02-09</td>\n",
       "      <td>Submission for OMB Review; Prohibition of Acqu...</td>\n",
       "      <td>Notice</td>\n",
       "      <td>103</td>\n",
       "      <td>...</td>\n",
       "      <td>None</td>\n",
       "      <td>None</td>\n",
       "      <td>None</td>\n",
       "      <td>None</td>\n",
       "      <td>None</td>\n",
       "      <td>None</td>\n",
       "      <td>None</td>\n",
       "      <td>None</td>\n",
       "      <td>None</td>\n",
       "      <td>General Services Administration</td>\n",
       "    </tr>\n",
       "  </tbody>\n",
       "</table>\n",
       "<p>2 rows × 31 columns</p>\n",
       "</div>"
      ],
      "text/plain": [
       "                                            abstract document_number  \\\n",
       "0                                               None      2018-02635   \n",
       "1  Under the provisions of the Paperwork Reductio...      2018-02587   \n",
       "\n",
       "                                            excerpts  \\\n",
       "0                                               None   \n",
       "1  Under the provisions of the Paperwork Reductio...   \n",
       "\n",
       "                                            html_url  \\\n",
       "0  https://www.federalregister.gov/documents/2018...   \n",
       "1  https://www.federalregister.gov/documents/2018...   \n",
       "\n",
       "                                             pdf_url  \\\n",
       "0  https://www.gpo.gov/fdsys/pkg/FR-2018-02-09/pd...   \n",
       "1  https://www.gpo.gov/fdsys/pkg/FR-2018-02-09/pd...   \n",
       "\n",
       "                           public_inspection_pdf_url publication_date  \\\n",
       "0  https://s3.amazonaws.com/public-inspection.fed...       2018-02-09   \n",
       "1  https://s3.amazonaws.com/public-inspection.fed...       2018-02-09   \n",
       "\n",
       "                                               title    type   id  \\\n",
       "0  Formations of, Acquisitions by, and Mergers of...  Notice  188   \n",
       "1  Submission for OMB Review; Prohibition of Acqu...  Notice  103   \n",
       "\n",
       "                ...                    7     8     9    10    11    12    13  \\\n",
       "0               ...                 None  None  None  None  None  None  None   \n",
       "1               ...                 None  None  None  None  None  None  None   \n",
       "\n",
       "     14    15                        subagency  \n",
       "0  None  None                             None  \n",
       "1  None  None  General Services Administration  \n",
       "\n",
       "[2 rows x 31 columns]"
      ]
     },
     "execution_count": 20,
     "metadata": {},
     "output_type": "execute_result"
    }
   ],
   "source": [
    "df5.head(2)"
   ]
  },
  {
   "cell_type": "code",
   "execution_count": 21,
   "metadata": {},
   "outputs": [
    {
     "data": {
      "text/plain": [
       "0                                          None\n",
       "1               General Services Administration\n",
       "2    Centers for Disease Control and Prevention\n",
       "3    Centers for Disease Control and Prevention\n",
       "4      Centers for Medicare & Medicaid Services\n",
       "Name: subagency, dtype: object"
      ]
     },
     "execution_count": 21,
     "metadata": {},
     "output_type": "execute_result"
    }
   ],
   "source": [
    "df5['subagency'].head(5)"
   ]
  },
  {
   "cell_type": "code",
   "execution_count": 22,
   "metadata": {},
   "outputs": [],
   "source": [
    "df5.rename(columns={'name':'agency'}, inplace=True)\n",
    "df5.rename(columns={'id':'agency_id'}, inplace=True)"
   ]
  },
  {
   "cell_type": "code",
   "execution_count": 23,
   "metadata": {},
   "outputs": [
    {
     "data": {
      "text/plain": [
       "Index([                 'abstract',           'document_number',\n",
       "                        'excerpts',                  'html_url',\n",
       "                         'pdf_url', 'public_inspection_pdf_url',\n",
       "                'publication_date',                     'title',\n",
       "                            'type',                 'agency_id',\n",
       "                        'json_url',                    'agency',\n",
       "                       'parent_id',                  'raw_name',\n",
       "                            'slug',                       'url',\n",
       "                                 2,                           3,\n",
       "                                 4,                           5,\n",
       "                                 6,                           7,\n",
       "                                 8,                           9,\n",
       "                                10,                          11,\n",
       "                                12,                          13,\n",
       "                                14,                          15,\n",
       "                       'subagency'],\n",
       "      dtype='object')"
      ]
     },
     "execution_count": 23,
     "metadata": {},
     "output_type": "execute_result"
    }
   ],
   "source": [
    "df5.columns"
   ]
  },
  {
   "cell_type": "code",
   "execution_count": 24,
   "metadata": {},
   "outputs": [],
   "source": [
    "df5=df5[['document_number', 'publication_date', 'agency_id', 'agency', 'subagency', \n",
    "        'title', 'abstract', 'type', 'excerpts', 'raw_name', 'slug', 'url', 'html_url', \n",
    "        'pdf_url', 'public_inspection_pdf_url',  'json_url', 'parent_id']]"
   ]
  },
  {
   "cell_type": "markdown",
   "metadata": {},
   "source": [
    "## Export to CSV"
   ]
  },
  {
   "cell_type": "code",
   "execution_count": 25,
   "metadata": {},
   "outputs": [
    {
     "data": {
      "text/plain": [
       "'2018-05-22'"
      ]
     },
     "execution_count": 25,
     "metadata": {},
     "output_type": "execute_result"
    }
   ],
   "source": [
    "from datetime import date\n",
    "today = str(date.today())\n",
    "today"
   ]
  },
  {
   "cell_type": "code",
   "execution_count": 26,
   "metadata": {},
   "outputs": [
    {
     "name": "stdout",
     "output_type": "stream",
     "text": [
      "C:/Users/alasseter/Documents/Projects/CTxE/Federal Register/data/fedreg_18-05-22-14-53.csv\n"
     ]
    }
   ],
   "source": [
    "import datetime\n",
    "def _getToday():\n",
    "    return datetime.datetime.now().strftime(\"%y-%m-%d-%H-%M\")\n",
    "outpath = r'C:/Users/alasseter/Documents/Projects/CTxE/Federal Register/data/' \n",
    "filename = \"%s_%s.%s\" % (\"fedreg\", _getToday() ,\"csv\")\n",
    "df5.to_csv(outpath + filename, index=False)\n",
    "print (outpath + filename)"
   ]
  },
  {
   "cell_type": "code",
   "execution_count": null,
   "metadata": {},
   "outputs": [],
   "source": []
  }
 ],
 "metadata": {
  "kernelspec": {
   "display_name": "Python 3",
   "language": "python",
   "name": "python3"
  },
  "language_info": {
   "codemirror_mode": {
    "name": "ipython",
    "version": 3
   },
   "file_extension": ".py",
   "mimetype": "text/x-python",
   "name": "python",
   "nbconvert_exporter": "python",
   "pygments_lexer": "ipython3",
   "version": "3.6.4"
  }
 },
 "nbformat": 4,
 "nbformat_minor": 2
}
