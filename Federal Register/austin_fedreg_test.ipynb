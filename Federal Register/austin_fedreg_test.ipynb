{
 "cells": [
  {
   "cell_type": "markdown",
   "metadata": {},
   "source": [
    "# Test Project: Import emails exported from outlook via csv into DOTCE, classify"
   ]
  },
  {
   "cell_type": "markdown",
   "metadata": {},
   "source": [
    "## Step 1: Go to correct directory and activate the DOTCE virtual env"
   ]
  },
  {
   "cell_type": "markdown",
   "metadata": {
    "scrolled": true
   },
   "source": [
    "%cd c:\\Users\\embicks\\dotce\n",
    "%pwd\n",
    "! activate dotce\n",
    "! conda info --envs"
   ]
  },
  {
   "cell_type": "markdown",
   "metadata": {},
   "source": [
    "## Step 2: Load various machine learning libraries to extract features from text document corpus and build classification models"
   ]
  },
  {
   "cell_type": "code",
   "execution_count": 48,
   "metadata": {},
   "outputs": [],
   "source": [
    "import pandas as pd\n",
    "import os\n",
    "import numpy as np\n",
    "import sys\n",
    "sys.path.append('C:\\\\Users\\\\embicks\\\\AppData\\\\Local\\\\Continuum\\\\Anaconda3\\\\envs\\\\dotce\\\\lib\\\\site-packages\\\\pyLDAvis')\n",
    "from sklearn.feature_extraction.text import TfidfVectorizer\n",
    "from collections import Counter\n",
    "import string\n",
    "import nltk\n",
    "from nltk.corpus import stopwords\n",
    "from nltk.stem.snowball import SnowballStemmer\n",
    "from sklearn.cross_validation import train_test_split\n",
    "from sklearn.linear_model import LogisticRegression as LR\n",
    "from sklearn.naive_bayes import MultinomialNB"
   ]
  },
  {
   "cell_type": "markdown",
   "metadata": {},
   "source": [
    "## Step 3: Read csv file into df and split into training and test sets"
   ]
  },
  {
   "cell_type": "code",
   "execution_count": 49,
   "metadata": {},
   "outputs": [],
   "source": [
    "#Make sure we're in the right directory\n",
    "dirname = r'C:/Users/alasseter/Documents/Projects/CTxE/Federal Register/data/'\n",
    "df = pd.read_csv(dirname + 'fedreg10k.csv')"
   ]
  },
  {
   "cell_type": "code",
   "execution_count": 50,
   "metadata": {},
   "outputs": [
    {
     "data": {
      "text/plain": [
       "(10000, 17)"
      ]
     },
     "execution_count": 50,
     "metadata": {},
     "output_type": "execute_result"
    }
   ],
   "source": [
    "df.shape"
   ]
  },
  {
   "cell_type": "code",
   "execution_count": 51,
   "metadata": {},
   "outputs": [
    {
     "data": {
      "text/html": [
       "<div>\n",
       "<style scoped>\n",
       "    .dataframe tbody tr th:only-of-type {\n",
       "        vertical-align: middle;\n",
       "    }\n",
       "\n",
       "    .dataframe tbody tr th {\n",
       "        vertical-align: top;\n",
       "    }\n",
       "\n",
       "    .dataframe thead th {\n",
       "        text-align: right;\n",
       "    }\n",
       "</style>\n",
       "<table border=\"1\" class=\"dataframe\">\n",
       "  <thead>\n",
       "    <tr style=\"text-align: right;\">\n",
       "      <th></th>\n",
       "      <th>document_number</th>\n",
       "      <th>publication_date</th>\n",
       "      <th>agency_id</th>\n",
       "      <th>agency</th>\n",
       "      <th>subagency</th>\n",
       "      <th>title</th>\n",
       "      <th>abstract</th>\n",
       "      <th>type</th>\n",
       "      <th>excerpts</th>\n",
       "      <th>raw_name</th>\n",
       "      <th>slug</th>\n",
       "      <th>url</th>\n",
       "      <th>html_url</th>\n",
       "      <th>pdf_url</th>\n",
       "      <th>public_inspection_pdf_url</th>\n",
       "      <th>json_url</th>\n",
       "      <th>parent_id</th>\n",
       "    </tr>\n",
       "  </thead>\n",
       "  <tbody>\n",
       "    <tr>\n",
       "      <th>0</th>\n",
       "      <td>2018-10583</td>\n",
       "      <td>2018-05-22</td>\n",
       "      <td>492</td>\n",
       "      <td>Transportation Department</td>\n",
       "      <td>Federal Aviation Administration</td>\n",
       "      <td>Airworthiness Directives; DG Flugzeugbau GmbH ...</td>\n",
       "      <td>We are superseding Airworthiness Directive (AD...</td>\n",
       "      <td>Rule</td>\n",
       "      <td>We are superseding Airworthiness Directive (AD...</td>\n",
       "      <td>DEPARTMENT OF TRANSPORTATION</td>\n",
       "      <td>transportation-department</td>\n",
       "      <td>https://www.federalregister.gov/agencies/trans...</td>\n",
       "      <td>https://www.federalregister.gov/documents/2018...</td>\n",
       "      <td>https://www.gpo.gov/fdsys/pkg/FR-2018-05-22/pd...</td>\n",
       "      <td>https://s3.amazonaws.com/public-inspection.fed...</td>\n",
       "      <td>https://www.federalregister.gov/api/v1/agencie...</td>\n",
       "      <td>NaN</td>\n",
       "    </tr>\n",
       "    <tr>\n",
       "      <th>1</th>\n",
       "      <td>2018-10902</td>\n",
       "      <td>2018-05-22</td>\n",
       "      <td>77</td>\n",
       "      <td>Commodity Futures Trading Commission</td>\n",
       "      <td>NaN</td>\n",
       "      <td>Foreign Futures and Options Transactions</td>\n",
       "      <td>The Commodity Futures Trading Commission (Comm...</td>\n",
       "      <td>Rule</td>\n",
       "      <td>The Commodity Futures Trading Commission (Comm...</td>\n",
       "      <td>COMMODITY FUTURES TRADING COMMISSION</td>\n",
       "      <td>commodity-futures-trading-commission</td>\n",
       "      <td>https://www.federalregister.gov/agencies/commo...</td>\n",
       "      <td>https://www.federalregister.gov/documents/2018...</td>\n",
       "      <td>https://www.gpo.gov/fdsys/pkg/FR-2018-05-22/pd...</td>\n",
       "      <td>https://s3.amazonaws.com/public-inspection.fed...</td>\n",
       "      <td>https://www.federalregister.gov/api/v1/agencie...</td>\n",
       "      <td>NaN</td>\n",
       "    </tr>\n",
       "  </tbody>\n",
       "</table>\n",
       "</div>"
      ],
      "text/plain": [
       "  document_number publication_date  agency_id  \\\n",
       "0      2018-10583       2018-05-22        492   \n",
       "1      2018-10902       2018-05-22         77   \n",
       "\n",
       "                                 agency                        subagency  \\\n",
       "0             Transportation Department  Federal Aviation Administration   \n",
       "1  Commodity Futures Trading Commission                              NaN   \n",
       "\n",
       "                                               title  \\\n",
       "0  Airworthiness Directives; DG Flugzeugbau GmbH ...   \n",
       "1           Foreign Futures and Options Transactions   \n",
       "\n",
       "                                            abstract  type  \\\n",
       "0  We are superseding Airworthiness Directive (AD...  Rule   \n",
       "1  The Commodity Futures Trading Commission (Comm...  Rule   \n",
       "\n",
       "                                            excerpts  \\\n",
       "0  We are superseding Airworthiness Directive (AD...   \n",
       "1  The Commodity Futures Trading Commission (Comm...   \n",
       "\n",
       "                               raw_name                                  slug  \\\n",
       "0          DEPARTMENT OF TRANSPORTATION             transportation-department   \n",
       "1  COMMODITY FUTURES TRADING COMMISSION  commodity-futures-trading-commission   \n",
       "\n",
       "                                                 url  \\\n",
       "0  https://www.federalregister.gov/agencies/trans...   \n",
       "1  https://www.federalregister.gov/agencies/commo...   \n",
       "\n",
       "                                            html_url  \\\n",
       "0  https://www.federalregister.gov/documents/2018...   \n",
       "1  https://www.federalregister.gov/documents/2018...   \n",
       "\n",
       "                                             pdf_url  \\\n",
       "0  https://www.gpo.gov/fdsys/pkg/FR-2018-05-22/pd...   \n",
       "1  https://www.gpo.gov/fdsys/pkg/FR-2018-05-22/pd...   \n",
       "\n",
       "                           public_inspection_pdf_url  \\\n",
       "0  https://s3.amazonaws.com/public-inspection.fed...   \n",
       "1  https://s3.amazonaws.com/public-inspection.fed...   \n",
       "\n",
       "                                            json_url  parent_id  \n",
       "0  https://www.federalregister.gov/api/v1/agencie...        NaN  \n",
       "1  https://www.federalregister.gov/api/v1/agencie...        NaN  "
      ]
     },
     "execution_count": 51,
     "metadata": {},
     "output_type": "execute_result"
    }
   ],
   "source": [
    "df.head(2)"
   ]
  },
  {
   "cell_type": "code",
   "execution_count": 52,
   "metadata": {},
   "outputs": [
    {
     "name": "stdout",
     "output_type": "stream",
     "text": [
      "2977\n"
     ]
    },
    {
     "data": {
      "text/plain": [
       "(7023, 17)"
      ]
     },
     "execution_count": 52,
     "metadata": {},
     "output_type": "execute_result"
    }
   ],
   "source": [
    "# Remove rows with empty data\n",
    "print(df['abstract'].isnull().sum())\n",
    "df=df.dropna(subset=['abstract'], how='all')\n",
    "df.shape"
   ]
  },
  {
   "cell_type": "code",
   "execution_count": 53,
   "metadata": {},
   "outputs": [
    {
     "data": {
      "text/plain": [
       "Transportation Department               934\n",
       "Commerce Department                     852\n",
       "Health and Human Services Department    723\n",
       "Homeland Security Department            602\n",
       "Environmental Protection Agency         482\n",
       "Name: agency, dtype: int64"
      ]
     },
     "execution_count": 53,
     "metadata": {},
     "output_type": "execute_result"
    }
   ],
   "source": [
    "# What are the top agencies in the dataset?\n",
    "df['agency'].value_counts().head()"
   ]
  },
  {
   "cell_type": "code",
   "execution_count": 54,
   "metadata": {},
   "outputs": [
    {
     "data": {
      "text/plain": [
       "False    6089\n",
       "True      934\n",
       "Name: target, dtype: int64"
      ]
     },
     "execution_count": 54,
     "metadata": {},
     "output_type": "execute_result"
    }
   ],
   "source": [
    "# Create the target variable\n",
    "df['target'] = (df['agency'] == 'Transportation Department')\n",
    "df['target'].value_counts()"
   ]
  },
  {
   "cell_type": "code",
   "execution_count": 55,
   "metadata": {},
   "outputs": [
    {
     "data": {
      "text/plain": [
       "'We are superseding Airworthiness Directive (AD) 2017-11-03 for DG Flugzeugbau GmbH Model DG-500MB gliders that are equipped with a Solo 2625 02 engine modified with a fuel injection system following the instructions of Solo Kleinmoteren GmbH Technische Mitteilung 4600-3 and identified as Solo 2625 02i. This AD results from mandatory continuing airworthiness information (MCAI) issued by an aviation authority of another country to identify and correct an unsafe condition on an aviation product. The MCAI describes the unsafe condition as failure of the connecting rod bearing resulting from too much load on the rod bearings from the engine control unit. This AD adds a model to the applicability. We are issuing this AD to require actions to address the unsafe condition on these products.'"
      ]
     },
     "execution_count": 55,
     "metadata": {},
     "output_type": "execute_result"
    }
   ],
   "source": [
    "train_df['abstract'][0]"
   ]
  },
  {
   "cell_type": "markdown",
   "metadata": {},
   "source": [
    "## Step 4: Let's make sure we can tokenize these properly and remove stop words\n",
    "<p>from <a href=\"http://www.cs.duke.edu/courses/spring14/compsci290/assignments/lab02.html\">CS Duke.edu</a></p>\n",
    "<p>Make sure you've installed the english punctuation and stop words list \n",
    "following <a href=\"http://www.nltk.org/data.html\">these instructions.</a>\n",
    "</p>"
   ]
  },
  {
   "cell_type": "markdown",
   "metadata": {},
   "source": [
    "#### Preprocessing"
   ]
  },
  {
   "cell_type": "code",
   "execution_count": 57,
   "metadata": {},
   "outputs": [
    {
     "data": {
      "text/plain": [
       "0    We are superseding Airworthiness Directive (AD...\n",
       "1    The Commodity Futures Trading Commission (Comm...\n",
       "2    We are extending the expiration date of Endocr...\n",
       "3    The Coast Guard has issued a temporary deviati...\n",
       "4    The Coast Guard has issued a temporary deviati...\n",
       "Name: abstract, dtype: object"
      ]
     },
     "execution_count": 57,
     "metadata": {},
     "output_type": "execute_result"
    }
   ],
   "source": [
    "# Establish the column that we'll use as the X set\n",
    "df['abstract'].head()"
   ]
  },
  {
   "cell_type": "code",
   "execution_count": 58,
   "metadata": {},
   "outputs": [
    {
     "data": {
      "text/plain": [
       "0    We are superseding Airworthiness Directive AD ...\n",
       "1    The Commodity Futures Trading Commission Commi...\n",
       "2    We are extending the expiration date of Endocr...\n",
       "3    The Coast Guard has issued a temporary deviati...\n",
       "4    The Coast Guard has issued a temporary deviati...\n",
       "Name: abstract, dtype: object"
      ]
     },
     "execution_count": 58,
     "metadata": {},
     "output_type": "execute_result"
    }
   ],
   "source": [
    "# strip punctuaction\n",
    "from utils.email_utils import stripPunctuation\n",
    "df['abstract'] = df['abstract'].apply(stripPunctuation)\n",
    "df['abstract'].head()"
   ]
  },
  {
   "cell_type": "code",
   "execution_count": 59,
   "metadata": {},
   "outputs": [
    {
     "data": {
      "text/plain": [
       "0    we are superseding airworthiness directive ad ...\n",
       "1    the commodity futures trading commission commi...\n",
       "2    we are extending the expiration date of endocr...\n",
       "3    the coast guard has issued a temporary deviati...\n",
       "4    the coast guard has issued a temporary deviati...\n",
       "Name: abstract, dtype: object"
      ]
     },
     "execution_count": 59,
     "metadata": {},
     "output_type": "execute_result"
    }
   ],
   "source": [
    "# convert to lower case\n",
    "from utils.email_utils import preprocess\n",
    "df['abstract'] = df['abstract'].apply(preprocess)\n",
    "df['abstract'].head()"
   ]
  },
  {
   "cell_type": "code",
   "execution_count": 60,
   "metadata": {},
   "outputs": [
    {
     "data": {
      "text/plain": [
       "0    [we, are, superseding, airworthiness, directiv...\n",
       "1    [the, commodity, futures, trading, commission,...\n",
       "2    [we, are, extending, the, expiration, date, of...\n",
       "3    [the, coast, guard, has, issued, a, temporary,...\n",
       "4    [the, coast, guard, has, issued, a, temporary,...\n",
       "Name: abstract, dtype: object"
      ]
     },
     "execution_count": 60,
     "metadata": {},
     "output_type": "execute_result"
    }
   ],
   "source": [
    "# examine the tokenizer (note: this is just exploratory and does not modify the data)\n",
    "from nltk.stem.snowball import SnowballStemmer\n",
    "from nltk.tokenize import WhitespaceTokenizer\n",
    "df['abstract'].apply(myTokenizer.tokenize).head()"
   ]
  },
  {
   "cell_type": "code",
   "execution_count": 61,
   "metadata": {},
   "outputs": [
    {
     "data": {
      "text/plain": [
       "0    124\n",
       "1    158\n",
       "2     70\n",
       "3    101\n",
       "4     63\n",
       "Name: abstract, dtype: int64"
      ]
     },
     "execution_count": 61,
     "metadata": {},
     "output_type": "execute_result"
    }
   ],
   "source": [
    "# Count the tokens (note: this is just exploratory and does not modify the data)\n",
    "df['abstract'].apply(countTokens).head()"
   ]
  },
  {
   "cell_type": "markdown",
   "metadata": {},
   "source": [
    "## Step 5: convert train and test dfs to term X document representation matrices (_X)"
   ]
  },
  {
   "cell_type": "code",
   "execution_count": 66,
   "metadata": {},
   "outputs": [],
   "source": [
    "# Establish our X and y\n",
    "X = df['abstract']\n",
    "y = df['target']"
   ]
  },
  {
   "cell_type": "code",
   "execution_count": 67,
   "metadata": {},
   "outputs": [],
   "source": [
    "# Let's set aside 33% of our data for testing.\n",
    "X_train, X_test, y_train, y_test = train_test_split(X, y, test_size=0.33)"
   ]
  },
  {
   "cell_type": "code",
   "execution_count": 70,
   "metadata": {},
   "outputs": [],
   "source": [
    "##Instantiate a TFidf vectorizer\n",
    "vectorizer = TfidfVectorizer(sublinear_tf=True, encoding='utf-8', \n",
    "                             max_df=0.5, tokenizer=myTokenizer.tokenize)"
   ]
  },
  {
   "cell_type": "code",
   "execution_count": 74,
   "metadata": {},
   "outputs": [],
   "source": [
    "#This step can take a while\n",
    "tvec_train = vectorizer.fit_transform(X_train)"
   ]
  },
  {
   "cell_type": "code",
   "execution_count": 73,
   "metadata": {},
   "outputs": [],
   "source": [
    "##Save feature names in a separate list\n",
    "feature_names = vectorizer.get_feature_names()"
   ]
  },
  {
   "cell_type": "code",
   "execution_count": 75,
   "metadata": {},
   "outputs": [],
   "source": [
    "#Create another matrix of tfidf scores for the documents in the test set\n",
    "tvec_test = vectorizer.transform(X_test)"
   ]
  },
  {
   "cell_type": "markdown",
   "metadata": {},
   "source": [
    "## Step 5: Instantiate and Train a Logistic Regression Classifier"
   ]
  },
  {
   "cell_type": "code",
   "execution_count": 80,
   "metadata": {},
   "outputs": [
    {
     "data": {
      "text/plain": [
       "LogisticRegression(C=1.0, class_weight=None, dual=False, fit_intercept=True,\n",
       "          intercept_scaling=1, max_iter=100, multi_class='ovr', n_jobs=1,\n",
       "          penalty='l2', random_state=None, solver='liblinear', tol=0.0001,\n",
       "          verbose=0, warm_start=False)"
      ]
     },
     "execution_count": 80,
     "metadata": {},
     "output_type": "execute_result"
    }
   ],
   "source": [
    "#Create a logistic regression model\n",
    "#From same tutorial https://github.com/zygmuntz/classifying-text/blob/master/bow_predict.py\n",
    "model_lr = LR()\n",
    "model_lr.fit(tvec_train, y_train)"
   ]
  },
  {
   "cell_type": "markdown",
   "metadata": {},
   "source": [
    "### Step 5B: Try a Naive Bayes Classifier"
   ]
  },
  {
   "cell_type": "code",
   "execution_count": 81,
   "metadata": {},
   "outputs": [
    {
     "data": {
      "text/plain": [
       "MultinomialNB(alpha=0.05, class_prior=None, fit_prior=True)"
      ]
     },
     "execution_count": 81,
     "metadata": {},
     "output_type": "execute_result"
    }
   ],
   "source": [
    "#Try a naive bayes classifier instead\n",
    "model_nb = MultinomialNB(alpha=0.05)\n",
    "model_nb.fit(tvec_train, y_train)"
   ]
  },
  {
   "cell_type": "markdown",
   "metadata": {},
   "source": [
    "## Step 6: Test classifier on test_X matrix"
   ]
  },
  {
   "cell_type": "code",
   "execution_count": 83,
   "metadata": {},
   "outputs": [
    {
     "data": {
      "text/plain": [
       "0.9641932700603969"
      ]
     },
     "execution_count": 83,
     "metadata": {},
     "output_type": "execute_result"
    }
   ],
   "source": [
    "#Predict probability of class membership\n",
    "p = model_lr.predict_proba(tvec_test)[:,1]\n",
    "model_lr.score(tvec_test, y_test)"
   ]
  },
  {
   "cell_type": "markdown",
   "metadata": {},
   "source": [
    "### Test NB Classifier results"
   ]
  },
  {
   "cell_type": "code",
   "execution_count": 85,
   "metadata": {},
   "outputs": [
    {
     "data": {
      "text/plain": [
       "0.9723899913718723"
      ]
     },
     "execution_count": 85,
     "metadata": {},
     "output_type": "execute_result"
    }
   ],
   "source": [
    "p2 = model_nb.predict(tvec_test)\n",
    "model_nb.score(tvec_test, y_test)"
   ]
  },
  {
   "cell_type": "code",
   "execution_count": 88,
   "metadata": {},
   "outputs": [
    {
     "name": "stdout",
     "output_type": "stream",
     "text": [
      "2318\n"
     ]
    },
    {
     "data": {
      "text/plain": [
       "2318"
      ]
     },
     "execution_count": 88,
     "metadata": {},
     "output_type": "execute_result"
    }
   ],
   "source": [
    "print(len(y_test))\n",
    "len(p2)"
   ]
  },
  {
   "cell_type": "code",
   "execution_count": 90,
   "metadata": {},
   "outputs": [],
   "source": [
    "probabilities = model_nb.predict_proba(tvec_test)"
   ]
  },
  {
   "cell_type": "code",
   "execution_count": 91,
   "metadata": {},
   "outputs": [],
   "source": [
    "# Convert each component to a pandas dateframe\n",
    "df_probs=pd.DataFrame(probabilities).reset_index(drop=True)\n",
    "df_Xtest=pd.DataFrame(X_test).reset_index(drop=True)\n",
    "df_ytest=pd.DataFrame(y_test).reset_index(drop=True)\n",
    "# Reset a new index because we removed all the training data but never reset the index, so it has gaps\n",
    "# and drop=True gets rid of the old index\n",
    "\n",
    "final=pd.concat([df_Xtest, df_ytest, df_probs], axis=1)"
   ]
  },
  {
   "cell_type": "code",
   "execution_count": 96,
   "metadata": {},
   "outputs": [
    {
     "data": {
      "text/html": [
       "<div>\n",
       "<style scoped>\n",
       "    .dataframe tbody tr th:only-of-type {\n",
       "        vertical-align: middle;\n",
       "    }\n",
       "\n",
       "    .dataframe tbody tr th {\n",
       "        vertical-align: top;\n",
       "    }\n",
       "\n",
       "    .dataframe thead th {\n",
       "        text-align: right;\n",
       "    }\n",
       "</style>\n",
       "<table border=\"1\" class=\"dataframe\">\n",
       "  <thead>\n",
       "    <tr style=\"text-align: right;\">\n",
       "      <th></th>\n",
       "      <th>abstract</th>\n",
       "      <th>target</th>\n",
       "      <th>0</th>\n",
       "      <th>1</th>\n",
       "    </tr>\n",
       "  </thead>\n",
       "  <tbody>\n",
       "    <tr>\n",
       "      <th>3</th>\n",
       "      <td>we propose to adopt a new airworthiness direct...</td>\n",
       "      <td>True</td>\n",
       "      <td>8.934026e-07</td>\n",
       "      <td>0.999999</td>\n",
       "    </tr>\n",
       "    <tr>\n",
       "      <th>23</th>\n",
       "      <td>fmcsa announces its decision to renew exemptio...</td>\n",
       "      <td>True</td>\n",
       "      <td>4.959207e-07</td>\n",
       "      <td>1.000000</td>\n",
       "    </tr>\n",
       "    <tr>\n",
       "      <th>24</th>\n",
       "      <td>in accordance with the procedures governing th...</td>\n",
       "      <td>True</td>\n",
       "      <td>9.016302e-04</td>\n",
       "      <td>0.999098</td>\n",
       "    </tr>\n",
       "    <tr>\n",
       "      <th>34</th>\n",
       "      <td>we are superseding airworthiness directive ad ...</td>\n",
       "      <td>True</td>\n",
       "      <td>1.053485e-03</td>\n",
       "      <td>0.998947</td>\n",
       "    </tr>\n",
       "    <tr>\n",
       "      <th>43</th>\n",
       "      <td>this action proposes to amend class e airspace...</td>\n",
       "      <td>True</td>\n",
       "      <td>3.109738e-04</td>\n",
       "      <td>0.999689</td>\n",
       "    </tr>\n",
       "  </tbody>\n",
       "</table>\n",
       "</div>"
      ],
      "text/plain": [
       "                                             abstract  target             0  \\\n",
       "3   we propose to adopt a new airworthiness direct...    True  8.934026e-07   \n",
       "23  fmcsa announces its decision to renew exemptio...    True  4.959207e-07   \n",
       "24  in accordance with the procedures governing th...    True  9.016302e-04   \n",
       "34  we are superseding airworthiness directive ad ...    True  1.053485e-03   \n",
       "43  this action proposes to amend class e airspace...    True  3.109738e-04   \n",
       "\n",
       "           1  \n",
       "3   0.999999  \n",
       "23  1.000000  \n",
       "24  0.999098  \n",
       "34  0.998947  \n",
       "43  0.999689  "
      ]
     },
     "execution_count": 96,
     "metadata": {},
     "output_type": "execute_result"
    }
   ],
   "source": [
    "# Let's look at some that had high probability of being assigned to the target agency\n",
    "final[(final[0]<0.01)].head(5)"
   ]
  },
  {
   "cell_type": "code",
   "execution_count": 97,
   "metadata": {},
   "outputs": [
    {
     "data": {
      "text/html": [
       "<div>\n",
       "<style scoped>\n",
       "    .dataframe tbody tr th:only-of-type {\n",
       "        vertical-align: middle;\n",
       "    }\n",
       "\n",
       "    .dataframe tbody tr th {\n",
       "        vertical-align: top;\n",
       "    }\n",
       "\n",
       "    .dataframe thead th {\n",
       "        text-align: right;\n",
       "    }\n",
       "</style>\n",
       "<table border=\"1\" class=\"dataframe\">\n",
       "  <thead>\n",
       "    <tr style=\"text-align: right;\">\n",
       "      <th></th>\n",
       "      <th>abstract</th>\n",
       "      <th>target</th>\n",
       "      <th>0</th>\n",
       "      <th>1</th>\n",
       "    </tr>\n",
       "  </thead>\n",
       "  <tbody>\n",
       "    <tr>\n",
       "      <th>2</th>\n",
       "      <td>epa has received applications to register new ...</td>\n",
       "      <td>False</td>\n",
       "      <td>0.999923</td>\n",
       "      <td>0.000077</td>\n",
       "    </tr>\n",
       "    <tr>\n",
       "      <th>4</th>\n",
       "      <td>the federal emergency management agency as par...</td>\n",
       "      <td>False</td>\n",
       "      <td>0.999977</td>\n",
       "      <td>0.000023</td>\n",
       "    </tr>\n",
       "    <tr>\n",
       "      <th>5</th>\n",
       "      <td>this document directs that a referendum be con...</td>\n",
       "      <td>False</td>\n",
       "      <td>0.997972</td>\n",
       "      <td>0.002028</td>\n",
       "    </tr>\n",
       "    <tr>\n",
       "      <th>6</th>\n",
       "      <td>we the us fish and wildlife service service ha...</td>\n",
       "      <td>False</td>\n",
       "      <td>0.999979</td>\n",
       "      <td>0.000021</td>\n",
       "    </tr>\n",
       "    <tr>\n",
       "      <th>7</th>\n",
       "      <td>the national institute for occupational safety...</td>\n",
       "      <td>False</td>\n",
       "      <td>0.999980</td>\n",
       "      <td>0.000020</td>\n",
       "    </tr>\n",
       "  </tbody>\n",
       "</table>\n",
       "</div>"
      ],
      "text/plain": [
       "                                            abstract  target         0  \\\n",
       "2  epa has received applications to register new ...   False  0.999923   \n",
       "4  the federal emergency management agency as par...   False  0.999977   \n",
       "5  this document directs that a referendum be con...   False  0.997972   \n",
       "6  we the us fish and wildlife service service ha...   False  0.999979   \n",
       "7  the national institute for occupational safety...   False  0.999980   \n",
       "\n",
       "          1  \n",
       "2  0.000077  \n",
       "4  0.000023  \n",
       "5  0.002028  \n",
       "6  0.000021  \n",
       "7  0.000020  "
      ]
     },
     "execution_count": 97,
     "metadata": {},
     "output_type": "execute_result"
    }
   ],
   "source": [
    "# Let's look at some that had high probability of NOT being assigned to the target agency\n",
    "final[(final[0]>0.99)].head(5)"
   ]
  },
  {
   "cell_type": "code",
   "execution_count": 92,
   "metadata": {},
   "outputs": [
    {
     "data": {
      "text/html": [
       "<div>\n",
       "<style scoped>\n",
       "    .dataframe tbody tr th:only-of-type {\n",
       "        vertical-align: middle;\n",
       "    }\n",
       "\n",
       "    .dataframe tbody tr th {\n",
       "        vertical-align: top;\n",
       "    }\n",
       "\n",
       "    .dataframe thead th {\n",
       "        text-align: right;\n",
       "    }\n",
       "</style>\n",
       "<table border=\"1\" class=\"dataframe\">\n",
       "  <thead>\n",
       "    <tr style=\"text-align: right;\">\n",
       "      <th></th>\n",
       "      <th>abstract</th>\n",
       "      <th>target</th>\n",
       "      <th>0</th>\n",
       "      <th>1</th>\n",
       "    </tr>\n",
       "  </thead>\n",
       "  <tbody>\n",
       "    <tr>\n",
       "      <th>0</th>\n",
       "      <td>nmfs closes the gulf of mexico angling categor...</td>\n",
       "      <td>False</td>\n",
       "      <td>9.878835e-01</td>\n",
       "      <td>0.012117</td>\n",
       "    </tr>\n",
       "    <tr>\n",
       "      <th>1</th>\n",
       "      <td>the us department of transportation federal hi...</td>\n",
       "      <td>True</td>\n",
       "      <td>9.225769e-01</td>\n",
       "      <td>0.077423</td>\n",
       "    </tr>\n",
       "    <tr>\n",
       "      <th>2</th>\n",
       "      <td>epa has received applications to register new ...</td>\n",
       "      <td>False</td>\n",
       "      <td>9.999230e-01</td>\n",
       "      <td>0.000077</td>\n",
       "    </tr>\n",
       "    <tr>\n",
       "      <th>3</th>\n",
       "      <td>we propose to adopt a new airworthiness direct...</td>\n",
       "      <td>True</td>\n",
       "      <td>8.934026e-07</td>\n",
       "      <td>0.999999</td>\n",
       "    </tr>\n",
       "    <tr>\n",
       "      <th>4</th>\n",
       "      <td>the federal emergency management agency as par...</td>\n",
       "      <td>False</td>\n",
       "      <td>9.999765e-01</td>\n",
       "      <td>0.000023</td>\n",
       "    </tr>\n",
       "    <tr>\n",
       "      <th>5</th>\n",
       "      <td>this document directs that a referendum be con...</td>\n",
       "      <td>False</td>\n",
       "      <td>9.979720e-01</td>\n",
       "      <td>0.002028</td>\n",
       "    </tr>\n",
       "    <tr>\n",
       "      <th>6</th>\n",
       "      <td>we the us fish and wildlife service service ha...</td>\n",
       "      <td>False</td>\n",
       "      <td>9.999788e-01</td>\n",
       "      <td>0.000021</td>\n",
       "    </tr>\n",
       "    <tr>\n",
       "      <th>7</th>\n",
       "      <td>the national institute for occupational safety...</td>\n",
       "      <td>False</td>\n",
       "      <td>9.999801e-01</td>\n",
       "      <td>0.000020</td>\n",
       "    </tr>\n",
       "    <tr>\n",
       "      <th>8</th>\n",
       "      <td>the commission is noticing a recent postal ser...</td>\n",
       "      <td>False</td>\n",
       "      <td>9.999955e-01</td>\n",
       "      <td>0.000005</td>\n",
       "    </tr>\n",
       "    <tr>\n",
       "      <th>9</th>\n",
       "      <td>this action provides public notice and solicit...</td>\n",
       "      <td>False</td>\n",
       "      <td>9.846740e-01</td>\n",
       "      <td>0.015326</td>\n",
       "    </tr>\n",
       "  </tbody>\n",
       "</table>\n",
       "</div>"
      ],
      "text/plain": [
       "                                            abstract  target             0  \\\n",
       "0  nmfs closes the gulf of mexico angling categor...   False  9.878835e-01   \n",
       "1  the us department of transportation federal hi...    True  9.225769e-01   \n",
       "2  epa has received applications to register new ...   False  9.999230e-01   \n",
       "3  we propose to adopt a new airworthiness direct...    True  8.934026e-07   \n",
       "4  the federal emergency management agency as par...   False  9.999765e-01   \n",
       "5  this document directs that a referendum be con...   False  9.979720e-01   \n",
       "6  we the us fish and wildlife service service ha...   False  9.999788e-01   \n",
       "7  the national institute for occupational safety...   False  9.999801e-01   \n",
       "8  the commission is noticing a recent postal ser...   False  9.999955e-01   \n",
       "9  this action provides public notice and solicit...   False  9.846740e-01   \n",
       "\n",
       "          1  \n",
       "0  0.012117  \n",
       "1  0.077423  \n",
       "2  0.000077  \n",
       "3  0.999999  \n",
       "4  0.000023  \n",
       "5  0.002028  \n",
       "6  0.000021  \n",
       "7  0.000020  \n",
       "8  0.000005  \n",
       "9  0.015326  "
      ]
     },
     "execution_count": 92,
     "metadata": {},
     "output_type": "execute_result"
    }
   ],
   "source": [
    "# Let's look at some that had intermediate probability\n",
    "final[(final[0]!=0.0) & (final[0]!=1.0)].head(10)"
   ]
  },
  {
   "cell_type": "markdown",
   "metadata": {},
   "source": [
    "## Step 7: Evaluate Results\n",
    "<p>Nice summary of different formulas for accuracy, precision, recall, etc \n",
    "<a href=\"http://www.damienfrancois.be/blog/files/modelperfcheatsheet.pdf\">here</a></p>"
   ]
  },
  {
   "cell_type": "code",
   "execution_count": 99,
   "metadata": {},
   "outputs": [
    {
     "data": {
      "text/html": [
       "<div>\n",
       "<style scoped>\n",
       "    .dataframe tbody tr th:only-of-type {\n",
       "        vertical-align: middle;\n",
       "    }\n",
       "\n",
       "    .dataframe tbody tr th {\n",
       "        vertical-align: top;\n",
       "    }\n",
       "\n",
       "    .dataframe thead th {\n",
       "        text-align: right;\n",
       "    }\n",
       "</style>\n",
       "<table border=\"1\" class=\"dataframe\">\n",
       "  <thead>\n",
       "    <tr style=\"text-align: right;\">\n",
       "      <th></th>\n",
       "      <th>abstract</th>\n",
       "      <th>target</th>\n",
       "      <th>0</th>\n",
       "      <th>1</th>\n",
       "    </tr>\n",
       "  </thead>\n",
       "  <tbody>\n",
       "    <tr>\n",
       "      <th>0</th>\n",
       "      <td>nmfs closes the gulf of mexico angling categor...</td>\n",
       "      <td>False</td>\n",
       "      <td>9.878835e-01</td>\n",
       "      <td>0.012117</td>\n",
       "    </tr>\n",
       "    <tr>\n",
       "      <th>1</th>\n",
       "      <td>the us department of transportation federal hi...</td>\n",
       "      <td>True</td>\n",
       "      <td>9.225769e-01</td>\n",
       "      <td>0.077423</td>\n",
       "    </tr>\n",
       "    <tr>\n",
       "      <th>2</th>\n",
       "      <td>epa has received applications to register new ...</td>\n",
       "      <td>False</td>\n",
       "      <td>9.999230e-01</td>\n",
       "      <td>0.000077</td>\n",
       "    </tr>\n",
       "    <tr>\n",
       "      <th>3</th>\n",
       "      <td>we propose to adopt a new airworthiness direct...</td>\n",
       "      <td>True</td>\n",
       "      <td>8.934026e-07</td>\n",
       "      <td>0.999999</td>\n",
       "    </tr>\n",
       "    <tr>\n",
       "      <th>4</th>\n",
       "      <td>the federal emergency management agency as par...</td>\n",
       "      <td>False</td>\n",
       "      <td>9.999765e-01</td>\n",
       "      <td>0.000023</td>\n",
       "    </tr>\n",
       "  </tbody>\n",
       "</table>\n",
       "</div>"
      ],
      "text/plain": [
       "                                            abstract  target             0  \\\n",
       "0  nmfs closes the gulf of mexico angling categor...   False  9.878835e-01   \n",
       "1  the us department of transportation federal hi...    True  9.225769e-01   \n",
       "2  epa has received applications to register new ...   False  9.999230e-01   \n",
       "3  we propose to adopt a new airworthiness direct...    True  8.934026e-07   \n",
       "4  the federal emergency management agency as par...   False  9.999765e-01   \n",
       "\n",
       "          1  \n",
       "0  0.012117  \n",
       "1  0.077423  \n",
       "2  0.000077  \n",
       "3  0.999999  \n",
       "4  0.000023  "
      ]
     },
     "execution_count": 99,
     "metadata": {},
     "output_type": "execute_result"
    }
   ],
   "source": [
    "#Write out results\n",
    "final.head()"
   ]
  },
  {
   "cell_type": "code",
   "execution_count": 104,
   "metadata": {},
   "outputs": [
    {
     "data": {
      "text/html": [
       "<div>\n",
       "<style scoped>\n",
       "    .dataframe tbody tr th:only-of-type {\n",
       "        vertical-align: middle;\n",
       "    }\n",
       "\n",
       "    .dataframe tbody tr th {\n",
       "        vertical-align: top;\n",
       "    }\n",
       "\n",
       "    .dataframe thead th {\n",
       "        text-align: right;\n",
       "    }\n",
       "</style>\n",
       "<table border=\"1\" class=\"dataframe\">\n",
       "  <thead>\n",
       "    <tr style=\"text-align: right;\">\n",
       "      <th></th>\n",
       "      <th>abstract</th>\n",
       "      <th>target</th>\n",
       "      <th>0</th>\n",
       "      <th>1</th>\n",
       "      <th>prediction</th>\n",
       "    </tr>\n",
       "  </thead>\n",
       "  <tbody>\n",
       "    <tr>\n",
       "      <th>3</th>\n",
       "      <td>we propose to adopt a new airworthiness direct...</td>\n",
       "      <td>True</td>\n",
       "      <td>8.934026e-07</td>\n",
       "      <td>0.999999</td>\n",
       "      <td>True</td>\n",
       "    </tr>\n",
       "    <tr>\n",
       "      <th>23</th>\n",
       "      <td>fmcsa announces its decision to renew exemptio...</td>\n",
       "      <td>True</td>\n",
       "      <td>4.959207e-07</td>\n",
       "      <td>1.000000</td>\n",
       "      <td>True</td>\n",
       "    </tr>\n",
       "    <tr>\n",
       "      <th>24</th>\n",
       "      <td>in accordance with the procedures governing th...</td>\n",
       "      <td>True</td>\n",
       "      <td>9.016302e-04</td>\n",
       "      <td>0.999098</td>\n",
       "      <td>True</td>\n",
       "    </tr>\n",
       "    <tr>\n",
       "      <th>34</th>\n",
       "      <td>we are superseding airworthiness directive ad ...</td>\n",
       "      <td>True</td>\n",
       "      <td>1.053485e-03</td>\n",
       "      <td>0.998947</td>\n",
       "      <td>True</td>\n",
       "    </tr>\n",
       "    <tr>\n",
       "      <th>43</th>\n",
       "      <td>this action proposes to amend class e airspace...</td>\n",
       "      <td>True</td>\n",
       "      <td>3.109738e-04</td>\n",
       "      <td>0.999689</td>\n",
       "      <td>True</td>\n",
       "    </tr>\n",
       "    <tr>\n",
       "      <th>65</th>\n",
       "      <td>this action proposes to modify class e airspac...</td>\n",
       "      <td>True</td>\n",
       "      <td>9.806080e-07</td>\n",
       "      <td>0.999999</td>\n",
       "      <td>True</td>\n",
       "    </tr>\n",
       "    <tr>\n",
       "      <th>68</th>\n",
       "      <td>this notice contains a summary of a petition s...</td>\n",
       "      <td>True</td>\n",
       "      <td>6.065552e-04</td>\n",
       "      <td>0.999393</td>\n",
       "      <td>True</td>\n",
       "    </tr>\n",
       "    <tr>\n",
       "      <th>81</th>\n",
       "      <td>the secretary of transportation as represented...</td>\n",
       "      <td>True</td>\n",
       "      <td>6.227822e-06</td>\n",
       "      <td>0.999994</td>\n",
       "      <td>True</td>\n",
       "    </tr>\n",
       "    <tr>\n",
       "      <th>83</th>\n",
       "      <td>this action proposes to amend class d airspace...</td>\n",
       "      <td>True</td>\n",
       "      <td>9.613364e-08</td>\n",
       "      <td>1.000000</td>\n",
       "      <td>True</td>\n",
       "    </tr>\n",
       "    <tr>\n",
       "      <th>95</th>\n",
       "      <td>the moving ahead for progress in the 21st cent...</td>\n",
       "      <td>True</td>\n",
       "      <td>2.811111e-02</td>\n",
       "      <td>0.971889</td>\n",
       "      <td>True</td>\n",
       "    </tr>\n",
       "  </tbody>\n",
       "</table>\n",
       "</div>"
      ],
      "text/plain": [
       "                                             abstract  target             0  \\\n",
       "3   we propose to adopt a new airworthiness direct...    True  8.934026e-07   \n",
       "23  fmcsa announces its decision to renew exemptio...    True  4.959207e-07   \n",
       "24  in accordance with the procedures governing th...    True  9.016302e-04   \n",
       "34  we are superseding airworthiness directive ad ...    True  1.053485e-03   \n",
       "43  this action proposes to amend class e airspace...    True  3.109738e-04   \n",
       "65  this action proposes to modify class e airspac...    True  9.806080e-07   \n",
       "68  this notice contains a summary of a petition s...    True  6.065552e-04   \n",
       "81  the secretary of transportation as represented...    True  6.227822e-06   \n",
       "83  this action proposes to amend class d airspace...    True  9.613364e-08   \n",
       "95  the moving ahead for progress in the 21st cent...    True  2.811111e-02   \n",
       "\n",
       "           1  prediction  \n",
       "3   0.999999        True  \n",
       "23  1.000000        True  \n",
       "24  0.999098        True  \n",
       "34  0.998947        True  \n",
       "43  0.999689        True  \n",
       "65  0.999999        True  \n",
       "68  0.999393        True  \n",
       "81  0.999994        True  \n",
       "83  1.000000        True  \n",
       "95  0.971889        True  "
      ]
     },
     "execution_count": 104,
     "metadata": {},
     "output_type": "execute_result"
    }
   ],
   "source": [
    "THRESHOLD = .90\n",
    "final['prediction'] = (final[1] >= THRESHOLD)\n",
    "## When did the classifier get it right?\n",
    "final.loc[final['prediction']==True].head(10)"
   ]
  },
  {
   "cell_type": "code",
   "execution_count": 105,
   "metadata": {},
   "outputs": [
    {
     "name": "stdout",
     "output_type": "stream",
     "text": [
      "Results\n",
      "True Positives\tTrue_Negatives\tFalse_Positives\\False_Negatives\n",
      "\n",
      "232\t1999\t0\t87\n",
      "Classifier Accuracy: 0.9624676445211389\n",
      "\n",
      "Classifier Error Rate: 0.037532355478861086\n",
      "\n"
     ]
    }
   ],
   "source": [
    "#Now let's see how well this model did, true positives, false positives, etc\n",
    "def accuracy(tp, tn, fp, fn):\n",
    "    return ((tp + tn)/(tp + tn + fp + fn))\n",
    "\n",
    "def error_rate(tp, tn, fp, fn):\n",
    "    return ((fp + fn)/ (tp + tn + fp + fn))\n",
    "\n",
    "true_positives = len(final.loc[(final['target'] == True) & (final['prediction'] == True)])\n",
    "false_positives = len(final.loc[(final['target'] == False) & (final['prediction'] == True)])\n",
    "true_negatives = len(final.loc[(final['target'] == False) & (final['prediction'] == False)])\n",
    "false_negatives = len(final.loc[(final['target'] == True) & (final['prediction'] == False)])\n",
    "print(\"Results\\nTrue Positives\\tTrue_Negatives\\tFalse_Positives\\False_Negatives\\n\")\n",
    "print(\"\\t\".join(map(str, [true_positives, true_negatives, false_positives, false_negatives])))\n",
    "\n",
    "print(\"Classifier Accuracy: {}\\n\".format(accuracy(true_positives, true_negatives, \n",
    "                                                  false_positives, false_negatives)))\n",
    "print(\"Classifier Error Rate: {}\\n\".format(error_rate(true_positives, true_negatives,\n",
    "                                                      false_positives, false_negatives)))\n"
   ]
  },
  {
   "cell_type": "markdown",
   "metadata": {},
   "source": [
    "### Evaluate NB using metrics module"
   ]
  },
  {
   "cell_type": "code",
   "execution_count": 106,
   "metadata": {},
   "outputs": [
    {
     "name": "stdout",
     "output_type": "stream",
     "text": [
      "             precision    recall  f1-score   support\n",
      "\n",
      "      False       0.97      1.00      0.98      1999\n",
      "       True       1.00      0.80      0.89       319\n",
      "\n",
      "avg / total       0.97      0.97      0.97      2318\n",
      "\n"
     ]
    }
   ],
   "source": [
    "from sklearn import metrics\n",
    "print(metrics.classification_report(y_test, p2))"
   ]
  },
  {
   "cell_type": "markdown",
   "metadata": {},
   "source": [
    "### Which features are most informative?\n",
    "<p>Stolen/lifted from <a href=\"https://stackoverflow.com/questions/11116697/how-to-get-most-informative-features-for-scikit-learn-classifiers\">stack overflow</a></p>"
   ]
  },
  {
   "cell_type": "code",
   "execution_count": 107,
   "metadata": {},
   "outputs": [
    {
     "name": "stdout",
     "output_type": "stream",
     "text": [
      "\t-11.4533\t0              \t\t-4.9702\tad             \n",
      "\t-11.4533\t00             \t\t-5.4264\tairworthiness  \n",
      "\t-11.4533\t0003           \t\t-5.4748\tby             \n",
      "\t-11.4533\t0007           \t\t-5.4801\tfaa            \n",
      "\t-11.4533\t001            \t\t-5.5052\tthese          \n",
      "\t-11.4533\t0011           \t\t-5.5136\tare            \n",
      "\t-11.4533\t002            \t\t-5.5170\twe             \n",
      "\t-11.4533\t0028           \t\t-5.5568\tairspace       \n",
      "\t-11.4533\t00362          \t\t-5.5658\tmodel          \n",
      "\t-11.4533\t0101           \t\t-5.5672\tsafety         \n",
      "\t-11.4533\t010106         \t\t-5.5733\tmotor          \n",
      "\t-11.4533\t01022018       \t\t-5.5942\tcondition      \n",
      "\t-11.4533\t011            \t\t-5.6086\tmarad          \n",
      "\t-11.4533\t01152018       \t\t-5.6160\tairplanes      \n",
      "\t-11.4533\t01162018       \t\t-5.6181\tcertain        \n",
      "\t-11.4533\t0117           \t\t-5.6206\tunsafe         \n",
      "\t-11.4533\t01182018       \t\t-5.6330\tairport        \n",
      "\t-11.4533\t012            \t\t-5.6955\tfrom           \n",
      "\t-11.4533\t014            \t\t-5.7843\tnew            \n",
      "\t-11.4533\t014313         \t\t-5.8053\tdirective      \n",
      "\t-11.4533\t015513         \t\t-5.8059\tan             \n",
      "\t-11.4533\t017            \t\t-5.8145\twith           \n",
      "\t-11.4533\t019            \t\t-5.8293\tproposed       \n",
      "\t-11.4533\t0202           \t\t-5.8483\tinformation    \n",
      "\t-11.4533\t021            \t\t-5.8598\ttransportation \n"
     ]
    }
   ],
   "source": [
    "#What are the most informative features in this test?\n",
    "def show_most_informative_features(vectorizer, clf, n=20):\n",
    "    feature_names = vectorizer.get_feature_names()\n",
    "    coefs_with_fns = sorted(zip(clf.coef_[0], feature_names))\n",
    "    top = zip(coefs_with_fns[:n], coefs_with_fns[:-(n + 1):-1])\n",
    "    for (coef_1, fn_1), (coef_2, fn_2) in top:\n",
    "        print (\"\\t%.4f\\t%-15s\\t\\t%.4f\\t%-15s\" % (coef_1, fn_1, coef_2, fn_2))\n",
    "\n",
    "show_most_informative_features(vectorizer, model_nb, 25)"
   ]
  },
  {
   "cell_type": "markdown",
   "metadata": {
    "collapsed": true
   },
   "source": [
    "## Step 9: More EDA -- A better way of compiling the vocabulary\n",
    "<a href=\"http://nlpforhackers.io/tf-idf/\">Source http://nlpforhackers.io/tf-idf/</a>"
   ]
  },
  {
   "cell_type": "code",
   "execution_count": 109,
   "metadata": {},
   "outputs": [
    {
     "name": "stdout",
     "output_type": "stream",
     "text": [
      "Vocabulary size: 20096\n",
      "Documents Count: 5618\n",
      "\n"
     ]
    }
   ],
   "source": [
    "# build the vocabulary in one pass\n",
    "vocabulary = set()\n",
    "for text in df['abstract']:\n",
    "    words = myTokenizer.tokenize(text)\n",
    "    vocabulary.update(words)\n",
    " \n",
    "vocabulary = list(vocabulary)\n",
    "word_index = {w: idx for idx, w in enumerate(vocabulary)}\n",
    " \n",
    "VOCABULARY_SIZE = len(vocabulary)\n",
    "DOCUMENTS_COUNT = len(train_df.index)\n",
    " \n",
    "print(\"Vocabulary size: {}\\nDocuments Count: {}\\n\".format(\n",
    "    VOCABULARY_SIZE, DOCUMENTS_COUNT))   "
   ]
  }
 ],
 "metadata": {
  "kernelspec": {
   "display_name": "Python 3",
   "language": "python",
   "name": "python3"
  },
  "language_info": {
   "codemirror_mode": {
    "name": "ipython",
    "version": 3
   },
   "file_extension": ".py",
   "mimetype": "text/x-python",
   "name": "python",
   "nbconvert_exporter": "python",
   "pygments_lexer": "ipython3",
   "version": "3.6.4"
  }
 },
 "nbformat": 4,
 "nbformat_minor": 2
}
