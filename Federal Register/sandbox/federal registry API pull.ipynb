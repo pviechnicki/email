{
 "cells": [
  {
   "cell_type": "markdown",
   "metadata": {},
   "source": [
    "## Federal registry API pull\n"
   ]
  },
  {
   "cell_type": "markdown",
   "metadata": {},
   "source": [
    "https://www.federalregister.gov/developers/api/v1  \n",
    "https://www.federalregister.gov/agencies"
   ]
  },
  {
   "cell_type": "code",
   "execution_count": 393,
   "metadata": {},
   "outputs": [],
   "source": [
    "import json\n",
    "import requests\n",
    "from bs4 import BeautifulSoup, SoupStrainer\n",
    "import json\n",
    "import re\n",
    "import urllib\n",
    "import pandas as pd\n",
    "import numpy as np\n",
    "from pandas.io.json import json_normalize"
   ]
  },
  {
   "cell_type": "code",
   "execution_count": 26,
   "metadata": {},
   "outputs": [
    {
     "data": {
      "text/plain": [
       "5"
      ]
     },
     "execution_count": 26,
     "metadata": {},
     "output_type": "execute_result"
    }
   ],
   "source": [
    "url = \"https://www.federalregister.gov/api/v1/documents.json?per_page=20&order=relevance\"\n",
    "response = requests.get(url).json()\n",
    "len(response)"
   ]
  },
  {
   "cell_type": "code",
   "execution_count": 27,
   "metadata": {},
   "outputs": [
    {
     "data": {
      "text/plain": [
       "dict_keys(['count', 'description', 'total_pages', 'next_page_url', 'results'])"
      ]
     },
     "execution_count": 27,
     "metadata": {},
     "output_type": "execute_result"
    }
   ],
   "source": [
    "response.keys()"
   ]
  },
  {
   "cell_type": "code",
   "execution_count": 18,
   "metadata": {},
   "outputs": [
    {
     "data": {
      "text/plain": [
       "['count', 'description', 'total_pages', 'next_page_url', 'results']"
      ]
     },
     "execution_count": 18,
     "metadata": {},
     "output_type": "execute_result"
    }
   ],
   "source": [
    "list(response)"
   ]
  },
  {
   "cell_type": "code",
   "execution_count": 19,
   "metadata": {},
   "outputs": [
    {
     "name": "stdout",
     "output_type": "stream",
     "text": [
      "778626\n",
      "All Documents\n",
      "50\n",
      "https://www.federalregister.gov/api/v1/documents.json?order=relevance&page=2&per_page=20\n"
     ]
    }
   ],
   "source": [
    "print(response['count'])\n",
    "print(response['description'])\n",
    "print(response['total_pages'])\n",
    "print(response['next_page_url'])"
   ]
  },
  {
   "cell_type": "code",
   "execution_count": 25,
   "metadata": {},
   "outputs": [
    {
     "data": {
      "text/plain": [
       "{'abstract': 'We are superseding Airworthiness Directive (AD) 2017-11-03 for DG Flugzeugbau GmbH Model DG-500MB gliders that are equipped with a Solo 2625 02 engine modified with a fuel injection system following the instructions of Solo Kleinmoteren GmbH Technische Mitteilung 4600-3 and identified as Solo 2625 02i. This AD results from mandatory continuing airworthiness information (MCAI) issued by an aviation authority of another country to identify and correct an unsafe condition on an aviation product. The MCAI describes the unsafe condition as failure of the connecting rod bearing resulting from too much load on the rod bearings from the engine control unit. This AD adds a model to the applicability. We are issuing this AD to require actions to address the unsafe condition on these products.',\n",
       " 'agencies': [{'id': 492,\n",
       "   'json_url': 'https://www.federalregister.gov/api/v1/agencies/492.json',\n",
       "   'name': 'Transportation Department',\n",
       "   'parent_id': None,\n",
       "   'raw_name': 'DEPARTMENT OF TRANSPORTATION',\n",
       "   'slug': 'transportation-department',\n",
       "   'url': 'https://www.federalregister.gov/agencies/transportation-department'},\n",
       "  {'id': 159,\n",
       "   'json_url': 'https://www.federalregister.gov/api/v1/agencies/159.json',\n",
       "   'name': 'Federal Aviation Administration',\n",
       "   'parent_id': 492,\n",
       "   'raw_name': 'Federal Aviation Administration',\n",
       "   'slug': 'federal-aviation-administration',\n",
       "   'url': 'https://www.federalregister.gov/agencies/federal-aviation-administration'}],\n",
       " 'document_number': '2018-10583',\n",
       " 'excerpts': 'We are superseding Airworthiness Directive (AD) 2017-11-03 for DG Flugzeugbau GmbH Model DG-500MB gliders that are equipped with a Solo 2625 02 engine modified with a fuel injection system following the instructions of Solo Kleinmoteren GmbH Technische...',\n",
       " 'html_url': 'https://www.federalregister.gov/documents/2018/05/22/2018-10583/airworthiness-directives-dg-flugzeugbau-gmbh-gliders',\n",
       " 'pdf_url': 'https://www.gpo.gov/fdsys/pkg/FR-2018-05-22/pdf/2018-10583.pdf',\n",
       " 'public_inspection_pdf_url': 'https://s3.amazonaws.com/public-inspection.federalregister.gov/2018-10583.pdf?1526906718',\n",
       " 'publication_date': '2018-05-22',\n",
       " 'title': 'Airworthiness Directives; DG Flugzeugbau GmbH Gliders',\n",
       " 'type': 'Rule'}"
      ]
     },
     "execution_count": 25,
     "metadata": {},
     "output_type": "execute_result"
    }
   ],
   "source": [
    "response['results'][0]"
   ]
  },
  {
   "cell_type": "code",
   "execution_count": 45,
   "metadata": {},
   "outputs": [
    {
     "data": {
      "text/plain": [
       "10"
      ]
     },
     "execution_count": 45,
     "metadata": {},
     "output_type": "execute_result"
    }
   ],
   "source": [
    "len(response['results'][0])"
   ]
  },
  {
   "cell_type": "code",
   "execution_count": 40,
   "metadata": {},
   "outputs": [
    {
     "data": {
      "text/plain": [
       "dict_keys(['title', 'type', 'abstract', 'document_number', 'html_url', 'pdf_url', 'public_inspection_pdf_url', 'publication_date', 'agencies', 'excerpts'])"
      ]
     },
     "execution_count": 40,
     "metadata": {},
     "output_type": "execute_result"
    }
   ],
   "source": [
    "response['results'][0].keys()"
   ]
  },
  {
   "cell_type": "code",
   "execution_count": 48,
   "metadata": {},
   "outputs": [
    {
     "data": {
      "text/plain": [
       "dict_keys(['raw_name', 'name', 'id', 'url', 'json_url', 'parent_id', 'slug'])"
      ]
     },
     "execution_count": 48,
     "metadata": {},
     "output_type": "execute_result"
    }
   ],
   "source": [
    "response['results'][0]['agencies'][0].keys()"
   ]
  },
  {
   "cell_type": "markdown",
   "metadata": {},
   "source": [
    "## With duplicates"
   ]
  },
  {
   "cell_type": "code",
   "execution_count": 145,
   "metadata": {},
   "outputs": [],
   "source": [
    "# Flatten the dataset, creating duplicate rows when two agencies are listed.\n",
    "df = json_normalize(response['results'], 'agencies', \n",
    "                     ['title', 'type', 'abstract', 'document_number', 'html_url', 'pdf_url',\n",
    "                      'public_inspection_pdf_url', 'publication_date', 'excerpts'])"
   ]
  },
  {
   "cell_type": "code",
   "execution_count": 146,
   "metadata": {},
   "outputs": [
    {
     "data": {
      "text/plain": [
       "(34, 16)"
      ]
     },
     "execution_count": 146,
     "metadata": {},
     "output_type": "execute_result"
    }
   ],
   "source": [
    "df.shape"
   ]
  },
  {
   "cell_type": "code",
   "execution_count": 147,
   "metadata": {},
   "outputs": [
    {
     "data": {
      "text/plain": [
       "Index(['id', 'json_url', 'name', 'parent_id', 'raw_name', 'slug', 'url',\n",
       "       'title', 'type', 'abstract', 'document_number', 'html_url', 'pdf_url',\n",
       "       'public_inspection_pdf_url', 'publication_date', 'excerpts'],\n",
       "      dtype='object')"
      ]
     },
     "execution_count": 147,
     "metadata": {},
     "output_type": "execute_result"
    }
   ],
   "source": [
    "df.columns"
   ]
  },
  {
   "cell_type": "code",
   "execution_count": 150,
   "metadata": {},
   "outputs": [
    {
     "data": {
      "text/html": [
       "<div>\n",
       "<style scoped>\n",
       "    .dataframe tbody tr th:only-of-type {\n",
       "        vertical-align: middle;\n",
       "    }\n",
       "\n",
       "    .dataframe tbody tr th {\n",
       "        vertical-align: top;\n",
       "    }\n",
       "\n",
       "    .dataframe thead th {\n",
       "        text-align: right;\n",
       "    }\n",
       "</style>\n",
       "<table border=\"1\" class=\"dataframe\">\n",
       "  <thead>\n",
       "    <tr style=\"text-align: right;\">\n",
       "      <th></th>\n",
       "      <th>id</th>\n",
       "      <th>json_url</th>\n",
       "      <th>name</th>\n",
       "      <th>parent_id</th>\n",
       "      <th>raw_name</th>\n",
       "      <th>slug</th>\n",
       "      <th>url</th>\n",
       "      <th>title</th>\n",
       "      <th>type</th>\n",
       "      <th>abstract</th>\n",
       "      <th>document_number</th>\n",
       "      <th>html_url</th>\n",
       "      <th>pdf_url</th>\n",
       "      <th>public_inspection_pdf_url</th>\n",
       "      <th>publication_date</th>\n",
       "      <th>excerpts</th>\n",
       "    </tr>\n",
       "  </thead>\n",
       "  <tbody>\n",
       "    <tr>\n",
       "      <th>0</th>\n",
       "      <td>492</td>\n",
       "      <td>https://www.federalregister.gov/api/v1/agencie...</td>\n",
       "      <td>Transportation Department</td>\n",
       "      <td>NaN</td>\n",
       "      <td>DEPARTMENT OF TRANSPORTATION</td>\n",
       "      <td>transportation-department</td>\n",
       "      <td>https://www.federalregister.gov/agencies/trans...</td>\n",
       "      <td>Airworthiness Directives; DG Flugzeugbau GmbH ...</td>\n",
       "      <td>Rule</td>\n",
       "      <td>We are superseding Airworthiness Directive (AD...</td>\n",
       "      <td>2018-10583</td>\n",
       "      <td>https://www.federalregister.gov/documents/2018...</td>\n",
       "      <td>https://www.gpo.gov/fdsys/pkg/FR-2018-05-22/pd...</td>\n",
       "      <td>https://s3.amazonaws.com/public-inspection.fed...</td>\n",
       "      <td>2018-05-22</td>\n",
       "      <td>We are superseding Airworthiness Directive (AD...</td>\n",
       "    </tr>\n",
       "    <tr>\n",
       "      <th>1</th>\n",
       "      <td>159</td>\n",
       "      <td>https://www.federalregister.gov/api/v1/agencie...</td>\n",
       "      <td>Federal Aviation Administration</td>\n",
       "      <td>492.0</td>\n",
       "      <td>Federal Aviation Administration</td>\n",
       "      <td>federal-aviation-administration</td>\n",
       "      <td>https://www.federalregister.gov/agencies/feder...</td>\n",
       "      <td>Airworthiness Directives; DG Flugzeugbau GmbH ...</td>\n",
       "      <td>Rule</td>\n",
       "      <td>We are superseding Airworthiness Directive (AD...</td>\n",
       "      <td>2018-10583</td>\n",
       "      <td>https://www.federalregister.gov/documents/2018...</td>\n",
       "      <td>https://www.gpo.gov/fdsys/pkg/FR-2018-05-22/pd...</td>\n",
       "      <td>https://s3.amazonaws.com/public-inspection.fed...</td>\n",
       "      <td>2018-05-22</td>\n",
       "      <td>We are superseding Airworthiness Directive (AD...</td>\n",
       "    </tr>\n",
       "  </tbody>\n",
       "</table>\n",
       "</div>"
      ],
      "text/plain": [
       "    id                                           json_url  \\\n",
       "0  492  https://www.federalregister.gov/api/v1/agencie...   \n",
       "1  159  https://www.federalregister.gov/api/v1/agencie...   \n",
       "\n",
       "                              name  parent_id  \\\n",
       "0        Transportation Department        NaN   \n",
       "1  Federal Aviation Administration      492.0   \n",
       "\n",
       "                          raw_name                             slug  \\\n",
       "0     DEPARTMENT OF TRANSPORTATION        transportation-department   \n",
       "1  Federal Aviation Administration  federal-aviation-administration   \n",
       "\n",
       "                                                 url  \\\n",
       "0  https://www.federalregister.gov/agencies/trans...   \n",
       "1  https://www.federalregister.gov/agencies/feder...   \n",
       "\n",
       "                                               title  type  \\\n",
       "0  Airworthiness Directives; DG Flugzeugbau GmbH ...  Rule   \n",
       "1  Airworthiness Directives; DG Flugzeugbau GmbH ...  Rule   \n",
       "\n",
       "                                            abstract document_number  \\\n",
       "0  We are superseding Airworthiness Directive (AD...      2018-10583   \n",
       "1  We are superseding Airworthiness Directive (AD...      2018-10583   \n",
       "\n",
       "                                            html_url  \\\n",
       "0  https://www.federalregister.gov/documents/2018...   \n",
       "1  https://www.federalregister.gov/documents/2018...   \n",
       "\n",
       "                                             pdf_url  \\\n",
       "0  https://www.gpo.gov/fdsys/pkg/FR-2018-05-22/pd...   \n",
       "1  https://www.gpo.gov/fdsys/pkg/FR-2018-05-22/pd...   \n",
       "\n",
       "                           public_inspection_pdf_url publication_date  \\\n",
       "0  https://s3.amazonaws.com/public-inspection.fed...       2018-05-22   \n",
       "1  https://s3.amazonaws.com/public-inspection.fed...       2018-05-22   \n",
       "\n",
       "                                            excerpts  \n",
       "0  We are superseding Airworthiness Directive (AD...  \n",
       "1  We are superseding Airworthiness Directive (AD...  "
      ]
     },
     "execution_count": 150,
     "metadata": {},
     "output_type": "execute_result"
    }
   ],
   "source": [
    "df.head(2)"
   ]
  },
  {
   "cell_type": "code",
   "execution_count": 160,
   "metadata": {},
   "outputs": [
    {
     "data": {
      "text/plain": [
       "'https://www.federalregister.gov/documents/2018/05/22/2018-10810/accelerating-wireline-broadband-deployment-by-removing-barriers-to-infrastructure-investment'"
      ]
     },
     "execution_count": 160,
     "metadata": {},
     "output_type": "execute_result"
    }
   ],
   "source": [
    "df[df['id']==161]['html_url'][18]"
   ]
  },
  {
   "cell_type": "code",
   "execution_count": 79,
   "metadata": {},
   "outputs": [
    {
     "data": {
      "text/plain": [
       "793"
      ]
     },
     "execution_count": 79,
     "metadata": {},
     "output_type": "execute_result"
    }
   ],
   "source": [
    "len(df['abstract'][0])"
   ]
  },
  {
   "cell_type": "code",
   "execution_count": 83,
   "metadata": {},
   "outputs": [
    {
     "data": {
      "text/plain": [
       "count                                                    34\n",
       "unique                                                   20\n",
       "top       This notice is to invite applications for loan...\n",
       "freq                                                      2\n",
       "Name: abstract, dtype: object"
      ]
     },
     "execution_count": 83,
     "metadata": {},
     "output_type": "execute_result"
    }
   ],
   "source": [
    "df['abstract'].describe()"
   ]
  },
  {
   "cell_type": "code",
   "execution_count": 99,
   "metadata": {},
   "outputs": [
    {
     "name": "stdout",
     "output_type": "stream",
     "text": [
      "abstract\n",
      "ave length: 569.6\n",
      "min length: 233\n",
      "max length: 1028\n"
     ]
    }
   ],
   "source": [
    "# Do the documents have enough text to permit adequate tokenizing?\n",
    "print('abstract')\n",
    "print('ave length:', round(df['abstract'].str.len().mean(), 1))\n",
    "print('min length:', df['abstract'].str.len().min())\n",
    "print('max length:', df['abstract'].str.len().max())"
   ]
  },
  {
   "cell_type": "markdown",
   "metadata": {},
   "source": [
    "## Without duplicates"
   ]
  },
  {
   "cell_type": "code",
   "execution_count": 161,
   "metadata": {},
   "outputs": [],
   "source": [
    "# Flatten the dataset, WITHOUT creating duplicate rows when two agencies are listed.\n",
    "df = json_normalize(response['results'])"
   ]
  },
  {
   "cell_type": "code",
   "execution_count": 162,
   "metadata": {},
   "outputs": [
    {
     "data": {
      "text/plain": [
       "(20, 10)"
      ]
     },
     "execution_count": 162,
     "metadata": {},
     "output_type": "execute_result"
    }
   ],
   "source": [
    "df.shape"
   ]
  },
  {
   "cell_type": "code",
   "execution_count": 107,
   "metadata": {},
   "outputs": [
    {
     "data": {
      "text/html": [
       "<div>\n",
       "<style scoped>\n",
       "    .dataframe tbody tr th:only-of-type {\n",
       "        vertical-align: middle;\n",
       "    }\n",
       "\n",
       "    .dataframe tbody tr th {\n",
       "        vertical-align: top;\n",
       "    }\n",
       "\n",
       "    .dataframe thead th {\n",
       "        text-align: right;\n",
       "    }\n",
       "</style>\n",
       "<table border=\"1\" class=\"dataframe\">\n",
       "  <thead>\n",
       "    <tr style=\"text-align: right;\">\n",
       "      <th></th>\n",
       "      <th>abstract</th>\n",
       "      <th>agencies</th>\n",
       "      <th>document_number</th>\n",
       "      <th>excerpts</th>\n",
       "      <th>html_url</th>\n",
       "      <th>pdf_url</th>\n",
       "      <th>public_inspection_pdf_url</th>\n",
       "      <th>publication_date</th>\n",
       "      <th>title</th>\n",
       "      <th>type</th>\n",
       "    </tr>\n",
       "  </thead>\n",
       "  <tbody>\n",
       "    <tr>\n",
       "      <th>0</th>\n",
       "      <td>We are superseding Airworthiness Directive (AD...</td>\n",
       "      <td>[{'raw_name': 'DEPARTMENT OF TRANSPORTATION', ...</td>\n",
       "      <td>2018-10583</td>\n",
       "      <td>We are superseding Airworthiness Directive (AD...</td>\n",
       "      <td>https://www.federalregister.gov/documents/2018...</td>\n",
       "      <td>https://www.gpo.gov/fdsys/pkg/FR-2018-05-22/pd...</td>\n",
       "      <td>https://s3.amazonaws.com/public-inspection.fed...</td>\n",
       "      <td>2018-05-22</td>\n",
       "      <td>Airworthiness Directives; DG Flugzeugbau GmbH ...</td>\n",
       "      <td>Rule</td>\n",
       "    </tr>\n",
       "    <tr>\n",
       "      <th>1</th>\n",
       "      <td>The Commodity Futures Trading Commission (Comm...</td>\n",
       "      <td>[{'raw_name': 'COMMODITY FUTURES TRADING COMMI...</td>\n",
       "      <td>2018-10902</td>\n",
       "      <td>The Commodity Futures Trading Commission (Comm...</td>\n",
       "      <td>https://www.federalregister.gov/documents/2018...</td>\n",
       "      <td>https://www.gpo.gov/fdsys/pkg/FR-2018-05-22/pd...</td>\n",
       "      <td>https://s3.amazonaws.com/public-inspection.fed...</td>\n",
       "      <td>2018-05-22</td>\n",
       "      <td>Foreign Futures and Options Transactions</td>\n",
       "      <td>Rule</td>\n",
       "    </tr>\n",
       "  </tbody>\n",
       "</table>\n",
       "</div>"
      ],
      "text/plain": [
       "                                            abstract  \\\n",
       "0  We are superseding Airworthiness Directive (AD...   \n",
       "1  The Commodity Futures Trading Commission (Comm...   \n",
       "\n",
       "                                            agencies document_number  \\\n",
       "0  [{'raw_name': 'DEPARTMENT OF TRANSPORTATION', ...      2018-10583   \n",
       "1  [{'raw_name': 'COMMODITY FUTURES TRADING COMMI...      2018-10902   \n",
       "\n",
       "                                            excerpts  \\\n",
       "0  We are superseding Airworthiness Directive (AD...   \n",
       "1  The Commodity Futures Trading Commission (Comm...   \n",
       "\n",
       "                                            html_url  \\\n",
       "0  https://www.federalregister.gov/documents/2018...   \n",
       "1  https://www.federalregister.gov/documents/2018...   \n",
       "\n",
       "                                             pdf_url  \\\n",
       "0  https://www.gpo.gov/fdsys/pkg/FR-2018-05-22/pd...   \n",
       "1  https://www.gpo.gov/fdsys/pkg/FR-2018-05-22/pd...   \n",
       "\n",
       "                           public_inspection_pdf_url publication_date  \\\n",
       "0  https://s3.amazonaws.com/public-inspection.fed...       2018-05-22   \n",
       "1  https://s3.amazonaws.com/public-inspection.fed...       2018-05-22   \n",
       "\n",
       "                                               title  type  \n",
       "0  Airworthiness Directives; DG Flugzeugbau GmbH ...  Rule  \n",
       "1           Foreign Futures and Options Transactions  Rule  "
      ]
     },
     "execution_count": 107,
     "metadata": {},
     "output_type": "execute_result"
    }
   ],
   "source": [
    "df.head(2)"
   ]
  },
  {
   "cell_type": "code",
   "execution_count": 163,
   "metadata": {},
   "outputs": [
    {
     "data": {
      "text/plain": [
       "(20, 2)"
      ]
     },
     "execution_count": 163,
     "metadata": {},
     "output_type": "execute_result"
    }
   ],
   "source": [
    "df2 = pd.DataFrame(df['agencies'].values.tolist(), index=df.index)\n",
    "df2.columns=['agency1', 'agency2']\n",
    "df2.shape"
   ]
  },
  {
   "cell_type": "code",
   "execution_count": 164,
   "metadata": {},
   "outputs": [
    {
     "data": {
      "text/html": [
       "<div>\n",
       "<style scoped>\n",
       "    .dataframe tbody tr th:only-of-type {\n",
       "        vertical-align: middle;\n",
       "    }\n",
       "\n",
       "    .dataframe tbody tr th {\n",
       "        vertical-align: top;\n",
       "    }\n",
       "\n",
       "    .dataframe thead th {\n",
       "        text-align: right;\n",
       "    }\n",
       "</style>\n",
       "<table border=\"1\" class=\"dataframe\">\n",
       "  <thead>\n",
       "    <tr style=\"text-align: right;\">\n",
       "      <th></th>\n",
       "      <th>agency1</th>\n",
       "      <th>agency2</th>\n",
       "    </tr>\n",
       "  </thead>\n",
       "  <tbody>\n",
       "    <tr>\n",
       "      <th>0</th>\n",
       "      <td>{'raw_name': 'DEPARTMENT OF TRANSPORTATION', '...</td>\n",
       "      <td>{'raw_name': 'Federal Aviation Administration'...</td>\n",
       "    </tr>\n",
       "    <tr>\n",
       "      <th>1</th>\n",
       "      <td>{'raw_name': 'COMMODITY FUTURES TRADING COMMIS...</td>\n",
       "      <td>None</td>\n",
       "    </tr>\n",
       "    <tr>\n",
       "      <th>2</th>\n",
       "      <td>{'raw_name': 'Social Security Administration',...</td>\n",
       "      <td>None</td>\n",
       "    </tr>\n",
       "    <tr>\n",
       "      <th>3</th>\n",
       "      <td>{'raw_name': 'DEPARTMENT OF HOMELAND SECURITY'...</td>\n",
       "      <td>{'raw_name': 'Coast Guard', 'name': 'Coast Gua...</td>\n",
       "    </tr>\n",
       "    <tr>\n",
       "      <th>4</th>\n",
       "      <td>{'raw_name': 'DEPARTMENT OF HOMELAND SECURITY'...</td>\n",
       "      <td>{'raw_name': 'Coast Guard', 'name': 'Coast Gua...</td>\n",
       "    </tr>\n",
       "  </tbody>\n",
       "</table>\n",
       "</div>"
      ],
      "text/plain": [
       "                                             agency1  \\\n",
       "0  {'raw_name': 'DEPARTMENT OF TRANSPORTATION', '...   \n",
       "1  {'raw_name': 'COMMODITY FUTURES TRADING COMMIS...   \n",
       "2  {'raw_name': 'Social Security Administration',...   \n",
       "3  {'raw_name': 'DEPARTMENT OF HOMELAND SECURITY'...   \n",
       "4  {'raw_name': 'DEPARTMENT OF HOMELAND SECURITY'...   \n",
       "\n",
       "                                             agency2  \n",
       "0  {'raw_name': 'Federal Aviation Administration'...  \n",
       "1                                               None  \n",
       "2                                               None  \n",
       "3  {'raw_name': 'Coast Guard', 'name': 'Coast Gua...  \n",
       "4  {'raw_name': 'Coast Guard', 'name': 'Coast Gua...  "
      ]
     },
     "execution_count": 164,
     "metadata": {},
     "output_type": "execute_result"
    }
   ],
   "source": [
    "df2.head()"
   ]
  },
  {
   "cell_type": "code",
   "execution_count": 123,
   "metadata": {},
   "outputs": [
    {
     "data": {
      "text/plain": [
       "6"
      ]
     },
     "execution_count": 123,
     "metadata": {},
     "output_type": "execute_result"
    }
   ],
   "source": [
    "df2['agency2'].isnull().sum()"
   ]
  },
  {
   "cell_type": "code",
   "execution_count": 124,
   "metadata": {},
   "outputs": [
    {
     "data": {
      "text/plain": [
       "(20, 7)"
      ]
     },
     "execution_count": 124,
     "metadata": {},
     "output_type": "execute_result"
    }
   ],
   "source": [
    "df3=pd.DataFrame(df2['agency1'].values.tolist(), index=df2.index)\n",
    "df3.shape"
   ]
  },
  {
   "cell_type": "code",
   "execution_count": 119,
   "metadata": {},
   "outputs": [
    {
     "data": {
      "text/html": [
       "<div>\n",
       "<style scoped>\n",
       "    .dataframe tbody tr th:only-of-type {\n",
       "        vertical-align: middle;\n",
       "    }\n",
       "\n",
       "    .dataframe tbody tr th {\n",
       "        vertical-align: top;\n",
       "    }\n",
       "\n",
       "    .dataframe thead th {\n",
       "        text-align: right;\n",
       "    }\n",
       "</style>\n",
       "<table border=\"1\" class=\"dataframe\">\n",
       "  <thead>\n",
       "    <tr style=\"text-align: right;\">\n",
       "      <th></th>\n",
       "      <th>id</th>\n",
       "      <th>json_url</th>\n",
       "      <th>name</th>\n",
       "      <th>parent_id</th>\n",
       "      <th>raw_name</th>\n",
       "      <th>slug</th>\n",
       "      <th>url</th>\n",
       "    </tr>\n",
       "  </thead>\n",
       "  <tbody>\n",
       "    <tr>\n",
       "      <th>0</th>\n",
       "      <td>492</td>\n",
       "      <td>https://www.federalregister.gov/api/v1/agencie...</td>\n",
       "      <td>Transportation Department</td>\n",
       "      <td>None</td>\n",
       "      <td>DEPARTMENT OF TRANSPORTATION</td>\n",
       "      <td>transportation-department</td>\n",
       "      <td>https://www.federalregister.gov/agencies/trans...</td>\n",
       "    </tr>\n",
       "    <tr>\n",
       "      <th>1</th>\n",
       "      <td>77</td>\n",
       "      <td>https://www.federalregister.gov/api/v1/agencie...</td>\n",
       "      <td>Commodity Futures Trading Commission</td>\n",
       "      <td>None</td>\n",
       "      <td>COMMODITY FUTURES TRADING COMMISSION</td>\n",
       "      <td>commodity-futures-trading-commission</td>\n",
       "      <td>https://www.federalregister.gov/agencies/commo...</td>\n",
       "    </tr>\n",
       "    <tr>\n",
       "      <th>2</th>\n",
       "      <td>470</td>\n",
       "      <td>https://www.federalregister.gov/api/v1/agencie...</td>\n",
       "      <td>Social Security Administration</td>\n",
       "      <td>None</td>\n",
       "      <td>Social Security Administration</td>\n",
       "      <td>social-security-administration</td>\n",
       "      <td>https://www.federalregister.gov/agencies/socia...</td>\n",
       "    </tr>\n",
       "    <tr>\n",
       "      <th>3</th>\n",
       "      <td>227</td>\n",
       "      <td>https://www.federalregister.gov/api/v1/agencie...</td>\n",
       "      <td>Homeland Security Department</td>\n",
       "      <td>None</td>\n",
       "      <td>DEPARTMENT OF HOMELAND SECURITY</td>\n",
       "      <td>homeland-security-department</td>\n",
       "      <td>https://www.federalregister.gov/agencies/homel...</td>\n",
       "    </tr>\n",
       "    <tr>\n",
       "      <th>4</th>\n",
       "      <td>227</td>\n",
       "      <td>https://www.federalregister.gov/api/v1/agencie...</td>\n",
       "      <td>Homeland Security Department</td>\n",
       "      <td>None</td>\n",
       "      <td>DEPARTMENT OF HOMELAND SECURITY</td>\n",
       "      <td>homeland-security-department</td>\n",
       "      <td>https://www.federalregister.gov/agencies/homel...</td>\n",
       "    </tr>\n",
       "  </tbody>\n",
       "</table>\n",
       "</div>"
      ],
      "text/plain": [
       "    id                                           json_url  \\\n",
       "0  492  https://www.federalregister.gov/api/v1/agencie...   \n",
       "1   77  https://www.federalregister.gov/api/v1/agencie...   \n",
       "2  470  https://www.federalregister.gov/api/v1/agencie...   \n",
       "3  227  https://www.federalregister.gov/api/v1/agencie...   \n",
       "4  227  https://www.federalregister.gov/api/v1/agencie...   \n",
       "\n",
       "                                   name parent_id  \\\n",
       "0             Transportation Department      None   \n",
       "1  Commodity Futures Trading Commission      None   \n",
       "2        Social Security Administration      None   \n",
       "3          Homeland Security Department      None   \n",
       "4          Homeland Security Department      None   \n",
       "\n",
       "                               raw_name                                  slug  \\\n",
       "0          DEPARTMENT OF TRANSPORTATION             transportation-department   \n",
       "1  COMMODITY FUTURES TRADING COMMISSION  commodity-futures-trading-commission   \n",
       "2        Social Security Administration        social-security-administration   \n",
       "3       DEPARTMENT OF HOMELAND SECURITY          homeland-security-department   \n",
       "4       DEPARTMENT OF HOMELAND SECURITY          homeland-security-department   \n",
       "\n",
       "                                                 url  \n",
       "0  https://www.federalregister.gov/agencies/trans...  \n",
       "1  https://www.federalregister.gov/agencies/commo...  \n",
       "2  https://www.federalregister.gov/agencies/socia...  \n",
       "3  https://www.federalregister.gov/agencies/homel...  \n",
       "4  https://www.federalregister.gov/agencies/homel...  "
      ]
     },
     "execution_count": 119,
     "metadata": {},
     "output_type": "execute_result"
    }
   ],
   "source": [
    "df3.head()"
   ]
  },
  {
   "cell_type": "code",
   "execution_count": 126,
   "metadata": {},
   "outputs": [
    {
     "data": {
      "text/plain": [
       "0    {'raw_name': 'Federal Aviation Administration'...\n",
       "1                                                 None\n",
       "2                                                 None\n",
       "3    {'raw_name': 'Coast Guard', 'name': 'Coast Gua...\n",
       "4    {'raw_name': 'Coast Guard', 'name': 'Coast Gua...\n",
       "Name: agency2, dtype: object"
      ]
     },
     "execution_count": 126,
     "metadata": {},
     "output_type": "execute_result"
    }
   ],
   "source": [
    "df2['agency2'].head()"
   ]
  },
  {
   "cell_type": "code",
   "execution_count": 127,
   "metadata": {},
   "outputs": [
    {
     "data": {
      "text/plain": [
       "'Federal Aviation Administration'"
      ]
     },
     "execution_count": 127,
     "metadata": {},
     "output_type": "execute_result"
    }
   ],
   "source": [
    "df2['agency2'][0]['name']"
   ]
  },
  {
   "cell_type": "code",
   "execution_count": 137,
   "metadata": {},
   "outputs": [],
   "source": [
    "# Extract the sub-agency\n",
    "def extractor (col):\n",
    "    try:\n",
    "        return(col['name'])\n",
    "    except:\n",
    "        pass\n",
    "df2['subagency']=df2['agency2'].apply(extractor)"
   ]
  },
  {
   "cell_type": "markdown",
   "metadata": {},
   "source": [
    "## Okay, let's do that all in one blow (no duplicates, but extract both agencies)"
   ]
  },
  {
   "cell_type": "code",
   "execution_count": 217,
   "metadata": {},
   "outputs": [],
   "source": [
    "# Pull the top 20 most recent registry items\n",
    "response = requests.get(\"https://www.federalregister.gov/api/v1/documents.json?per_page=20&order=relevance\").json()"
   ]
  },
  {
   "cell_type": "code",
   "execution_count": null,
   "metadata": {},
   "outputs": [],
   "source": [
    "# Flatten the dataset, WITHOUT creating duplicate rows when two agencies are listed.\n",
    "df = json_normalize(response['results'])"
   ]
  },
  {
   "cell_type": "code",
   "execution_count": 218,
   "metadata": {},
   "outputs": [],
   "source": [
    "# Flatten the \"agencies\" dictionary column into a new dataset\n",
    "df2 = pd.DataFrame(df['agencies'].values.tolist(), index=df.index, columns=['agency1', 'agency2'])"
   ]
  },
  {
   "cell_type": "code",
   "execution_count": 219,
   "metadata": {},
   "outputs": [],
   "source": [
    "# Extract the name of the sub-agency as a separate column\n",
    "def extractor (col):\n",
    "    try:\n",
    "        return(col['name'])\n",
    "    except:\n",
    "        pass\n",
    "df2['subagency']=df2['agency2'].apply(extractor)"
   ]
  },
  {
   "cell_type": "code",
   "execution_count": 220,
   "metadata": {},
   "outputs": [],
   "source": [
    "# Flatten the first agency and its metadata into a separate dataset\n",
    "df3=pd.DataFrame(df2['agency1'].values.tolist(), index=df2.index)"
   ]
  },
  {
   "cell_type": "code",
   "execution_count": 221,
   "metadata": {},
   "outputs": [],
   "source": [
    "# Join the first-agency dataset with the subagency column\n",
    "df4=df3.join(df2, how='outer').drop(['agency1', 'agency2'], axis=1)"
   ]
  },
  {
   "cell_type": "code",
   "execution_count": 222,
   "metadata": {},
   "outputs": [],
   "source": [
    "# Join that dataset into the original dataset of Registry entries\n",
    "df5=df.join(df4,how='outer').drop('agencies', axis=1)"
   ]
  },
  {
   "cell_type": "code",
   "execution_count": 223,
   "metadata": {},
   "outputs": [
    {
     "name": "stdout",
     "output_type": "stream",
     "text": [
      "(20, 17)\n",
      "Index(['abstract', 'document_number', 'excerpts', 'html_url', 'pdf_url',\n",
      "       'public_inspection_pdf_url', 'publication_date', 'title', 'type', 'id',\n",
      "       'json_url', 'name', 'parent_id', 'raw_name', 'slug', 'url',\n",
      "       'subagency'],\n",
      "      dtype='object')\n"
     ]
    }
   ],
   "source": [
    "print(df5.shape)\n",
    "print(df5.columns)"
   ]
  },
  {
   "cell_type": "code",
   "execution_count": 209,
   "metadata": {},
   "outputs": [
    {
     "data": {
      "text/html": [
       "<div>\n",
       "<style scoped>\n",
       "    .dataframe tbody tr th:only-of-type {\n",
       "        vertical-align: middle;\n",
       "    }\n",
       "\n",
       "    .dataframe tbody tr th {\n",
       "        vertical-align: top;\n",
       "    }\n",
       "\n",
       "    .dataframe thead th {\n",
       "        text-align: right;\n",
       "    }\n",
       "</style>\n",
       "<table border=\"1\" class=\"dataframe\">\n",
       "  <thead>\n",
       "    <tr style=\"text-align: right;\">\n",
       "      <th></th>\n",
       "      <th>abstract</th>\n",
       "      <th>document_number</th>\n",
       "      <th>excerpts</th>\n",
       "      <th>html_url</th>\n",
       "      <th>pdf_url</th>\n",
       "      <th>public_inspection_pdf_url</th>\n",
       "      <th>publication_date</th>\n",
       "      <th>title</th>\n",
       "      <th>type</th>\n",
       "      <th>id</th>\n",
       "      <th>json_url</th>\n",
       "      <th>name</th>\n",
       "      <th>parent_id</th>\n",
       "      <th>raw_name</th>\n",
       "      <th>slug</th>\n",
       "      <th>url</th>\n",
       "      <th>agency2</th>\n",
       "    </tr>\n",
       "  </thead>\n",
       "  <tbody>\n",
       "    <tr>\n",
       "      <th>0</th>\n",
       "      <td>We are superseding Airworthiness Directive (AD...</td>\n",
       "      <td>2018-10583</td>\n",
       "      <td>We are superseding Airworthiness Directive (AD...</td>\n",
       "      <td>https://www.federalregister.gov/documents/2018...</td>\n",
       "      <td>https://www.gpo.gov/fdsys/pkg/FR-2018-05-22/pd...</td>\n",
       "      <td>https://s3.amazonaws.com/public-inspection.fed...</td>\n",
       "      <td>2018-05-22</td>\n",
       "      <td>Airworthiness Directives; DG Flugzeugbau GmbH ...</td>\n",
       "      <td>Rule</td>\n",
       "      <td>492</td>\n",
       "      <td>https://www.federalregister.gov/api/v1/agencie...</td>\n",
       "      <td>Transportation Department</td>\n",
       "      <td>None</td>\n",
       "      <td>DEPARTMENT OF TRANSPORTATION</td>\n",
       "      <td>transportation-department</td>\n",
       "      <td>https://www.federalregister.gov/agencies/trans...</td>\n",
       "      <td>Federal Aviation Administration</td>\n",
       "    </tr>\n",
       "    <tr>\n",
       "      <th>1</th>\n",
       "      <td>The Commodity Futures Trading Commission (Comm...</td>\n",
       "      <td>2018-10902</td>\n",
       "      <td>The Commodity Futures Trading Commission (Comm...</td>\n",
       "      <td>https://www.federalregister.gov/documents/2018...</td>\n",
       "      <td>https://www.gpo.gov/fdsys/pkg/FR-2018-05-22/pd...</td>\n",
       "      <td>https://s3.amazonaws.com/public-inspection.fed...</td>\n",
       "      <td>2018-05-22</td>\n",
       "      <td>Foreign Futures and Options Transactions</td>\n",
       "      <td>Rule</td>\n",
       "      <td>77</td>\n",
       "      <td>https://www.federalregister.gov/api/v1/agencie...</td>\n",
       "      <td>Commodity Futures Trading Commission</td>\n",
       "      <td>None</td>\n",
       "      <td>COMMODITY FUTURES TRADING COMMISSION</td>\n",
       "      <td>commodity-futures-trading-commission</td>\n",
       "      <td>https://www.federalregister.gov/agencies/commo...</td>\n",
       "      <td>None</td>\n",
       "    </tr>\n",
       "  </tbody>\n",
       "</table>\n",
       "</div>"
      ],
      "text/plain": [
       "                                            abstract document_number  \\\n",
       "0  We are superseding Airworthiness Directive (AD...      2018-10583   \n",
       "1  The Commodity Futures Trading Commission (Comm...      2018-10902   \n",
       "\n",
       "                                            excerpts  \\\n",
       "0  We are superseding Airworthiness Directive (AD...   \n",
       "1  The Commodity Futures Trading Commission (Comm...   \n",
       "\n",
       "                                            html_url  \\\n",
       "0  https://www.federalregister.gov/documents/2018...   \n",
       "1  https://www.federalregister.gov/documents/2018...   \n",
       "\n",
       "                                             pdf_url  \\\n",
       "0  https://www.gpo.gov/fdsys/pkg/FR-2018-05-22/pd...   \n",
       "1  https://www.gpo.gov/fdsys/pkg/FR-2018-05-22/pd...   \n",
       "\n",
       "                           public_inspection_pdf_url publication_date  \\\n",
       "0  https://s3.amazonaws.com/public-inspection.fed...       2018-05-22   \n",
       "1  https://s3.amazonaws.com/public-inspection.fed...       2018-05-22   \n",
       "\n",
       "                                               title  type   id  \\\n",
       "0  Airworthiness Directives; DG Flugzeugbau GmbH ...  Rule  492   \n",
       "1           Foreign Futures and Options Transactions  Rule   77   \n",
       "\n",
       "                                            json_url  \\\n",
       "0  https://www.federalregister.gov/api/v1/agencie...   \n",
       "1  https://www.federalregister.gov/api/v1/agencie...   \n",
       "\n",
       "                                   name parent_id  \\\n",
       "0             Transportation Department      None   \n",
       "1  Commodity Futures Trading Commission      None   \n",
       "\n",
       "                               raw_name                                  slug  \\\n",
       "0          DEPARTMENT OF TRANSPORTATION             transportation-department   \n",
       "1  COMMODITY FUTURES TRADING COMMISSION  commodity-futures-trading-commission   \n",
       "\n",
       "                                                 url  \\\n",
       "0  https://www.federalregister.gov/agencies/trans...   \n",
       "1  https://www.federalregister.gov/agencies/commo...   \n",
       "\n",
       "                           agency2  \n",
       "0  Federal Aviation Administration  \n",
       "1                             None  "
      ]
     },
     "execution_count": 209,
     "metadata": {},
     "output_type": "execute_result"
    }
   ],
   "source": [
    "df5.head(2)"
   ]
  },
  {
   "cell_type": "code",
   "execution_count": 224,
   "metadata": {},
   "outputs": [
    {
     "data": {
      "text/plain": [
       "0    Federal Aviation Administration\n",
       "1                               None\n",
       "2                               None\n",
       "3                        Coast Guard\n",
       "4                        Coast Guard\n",
       "Name: subagency, dtype: object"
      ]
     },
     "execution_count": 224,
     "metadata": {},
     "output_type": "execute_result"
    }
   ],
   "source": [
    "df5['subagency'].head(5)"
   ]
  },
  {
   "cell_type": "markdown",
   "metadata": {},
   "source": [
    "## Pull the top result from a specific agency"
   ]
  },
  {
   "cell_type": "code",
   "execution_count": 232,
   "metadata": {},
   "outputs": [
    {
     "data": {
      "text/plain": [
       "{'abstract': 'Army National Military Cemeteries (ANMC) is honoring the requests of four families to disinter the human remains of four Native American students from the Carlisle Barracks Post Cemetery, Carlisle, Pennsylvania. The decedent names are Little Plume (aka Hayes Vanderbilt Friday), George Ell (aka George Eli), Herbert Little Hawk (aka Herbert J. Littlehawk), and Her Pipe Woman (aka as Dora Brave Bull). These students died in the 1880s and 1890s while attending the Carlisle Indian Industrial School. At the request of the closest living relative for each decedent, ANMC will disinter, transfer custody, transport, and reinter the remains in private cemeteries chosen by the families. This disinterment will be conducted in accordance with Army Regulation 210- 190. This is not a Native American Graves Protection and Repatriation Act (NAGPRA) action because the remains are not part of a collection as they are interred in graves that are individually marked at the Carlisle Barracks Post Cemetery.',\n",
       " 'agencies': [{'id': 103,\n",
       "   'json_url': 'https://www.federalregister.gov/api/v1/agencies/103.json',\n",
       "   'name': 'Defense Department',\n",
       "   'parent_id': None,\n",
       "   'raw_name': 'DEPARTMENT OF DEFENSE',\n",
       "   'slug': 'defense-department',\n",
       "   'url': 'https://www.federalregister.gov/agencies/defense-department'},\n",
       "  {'id': 32,\n",
       "   'json_url': 'https://www.federalregister.gov/api/v1/agencies/32.json',\n",
       "   'name': 'Army Department',\n",
       "   'parent_id': 103,\n",
       "   'raw_name': 'Department of the Army',\n",
       "   'slug': 'army-department',\n",
       "   'url': 'https://www.federalregister.gov/agencies/army-department'}],\n",
       " 'document_number': '2018-10772',\n",
       " 'excerpts': 'Army National Military Cemeteries (ANMC) is honoring the requests of four families to disinter the human remains of four Native American students from the Carlisle Barracks Post Cemetery, Carlisle, Pennsylvania. The decedent names are Little Plume (aka...',\n",
       " 'html_url': 'https://www.federalregister.gov/documents/2018/05/21/2018-10772/notice-of-intended-disinterment',\n",
       " 'pdf_url': 'https://www.gpo.gov/fdsys/pkg/FR-2018-05-21/pdf/2018-10772.pdf',\n",
       " 'public_inspection_pdf_url': 'https://s3.amazonaws.com/public-inspection.federalregister.gov/2018-10772.pdf?1526647534',\n",
       " 'publication_date': '2018-05-21',\n",
       " 'title': 'Notice of Intended Disinterment',\n",
       " 'type': 'Notice'}"
      ]
     },
     "execution_count": 232,
     "metadata": {},
     "output_type": "execute_result"
    }
   ],
   "source": [
    "string='defense-department'\n",
    "url = \"https://www.federalregister.gov/api/v1/documents.json?per_page=20&order=relevance&conditions%5Bagencies%5D%5B%5D=\" + string\n",
    "response = requests.get(url).json()['results'][0]\n",
    "response"
   ]
  },
  {
   "cell_type": "markdown",
   "metadata": {},
   "source": [
    "## Extract the complete list of agencies"
   ]
  },
  {
   "cell_type": "code",
   "execution_count": 305,
   "metadata": {},
   "outputs": [],
   "source": [
    "response=requests.get('https://www.federalregister.gov/agencies')"
   ]
  },
  {
   "cell_type": "code",
   "execution_count": 306,
   "metadata": {},
   "outputs": [
    {
     "data": {
      "text/plain": [
       "'<!DOCTYPE html>\\n  <head>\\n    <title>\\n      Federal Register\\n       :: \\n        \\n  Agencies\\n\\n    </title>\\n\\n    <!-- Tell search engines to use the proper hostname and protocol -->\\n    <link href=\"https://www.federalregister.gov/agencies\" rel=\"canonical\" />\\n\\n    <link rel=\"Shortcut Icon\" href=\"/favicon.ico\">\\n    <meta name=\"viewport\" content=\"width=device-width, initial-scale=1.0\">\\n\\n    <script src=\"https://use.typekit.net/rgf3yox.js\"></script>\\n<script type=\"text/javascript\">\\n  try {\\n    Typekit.l'"
      ]
     },
     "execution_count": 306,
     "metadata": {},
     "output_type": "execute_result"
    }
   ],
   "source": [
    "response.text[:500]"
   ]
  },
  {
   "cell_type": "markdown",
   "metadata": {},
   "source": [
    "<a href=\"https://www.federalregister.gov/agencies/administrative-conference-of-the-united-states\">Administrative Conference of the United States</a>"
   ]
  },
  {
   "cell_type": "code",
   "execution_count": 307,
   "metadata": {},
   "outputs": [],
   "source": [
    "soup = BeautifulSoup(response.text, 'lxml')"
   ]
  },
  {
   "cell_type": "code",
   "execution_count": 410,
   "metadata": {},
   "outputs": [],
   "source": [
    "agency_list=soup.find_all('ul', attrs={'class' : \"col-xs-12 col-md-12 filterable-list agency-list\"})"
   ]
  },
  {
   "cell_type": "code",
   "execution_count": 534,
   "metadata": {},
   "outputs": [],
   "source": [
    "list=[]\n",
    "for a in soup.find_all(href=True):\n",
    "    list.append(a.get('href'))"
   ]
  },
  {
   "cell_type": "code",
   "execution_count": 535,
   "metadata": {},
   "outputs": [],
   "source": [
    "links=pd.DataFrame(list)"
   ]
  },
  {
   "cell_type": "code",
   "execution_count": 536,
   "metadata": {},
   "outputs": [
    {
     "data": {
      "text/plain": [
       "'https://www.federalregister.gov/agencies/office-of-the-chief-financial-officer-agriculture-department'"
      ]
     },
     "execution_count": 536,
     "metadata": {},
     "output_type": "execute_result"
    }
   ],
   "source": [
    "links[0][350]"
   ]
  },
  {
   "cell_type": "code",
   "execution_count": 537,
   "metadata": {},
   "outputs": [
    {
     "data": {
      "text/plain": [
       "'office-of-the-chief-financial-officer-agriculture-department'"
      ]
     },
     "execution_count": 537,
     "metadata": {},
     "output_type": "execute_result"
    }
   ],
   "source": [
    "links[0][350].split('https://www.federalregister.gov/agencies/')[1]"
   ]
  },
  {
   "cell_type": "code",
   "execution_count": 538,
   "metadata": {},
   "outputs": [],
   "source": [
    "def name_extractor (col):\n",
    "    try:\n",
    "        return col.split('https://www.federalregister.gov/agencies/')[1]\n",
    "    except:\n",
    "        return 'killme'"
   ]
  },
  {
   "cell_type": "code",
   "execution_count": 539,
   "metadata": {},
   "outputs": [],
   "source": [
    "links['agency_name']=links[0].apply(name_extractor)"
   ]
  },
  {
   "cell_type": "code",
   "execution_count": 540,
   "metadata": {},
   "outputs": [
    {
     "data": {
      "text/plain": [
       "'office-of-the-chief-financial-officer-agriculture-department'"
      ]
     },
     "execution_count": 540,
     "metadata": {},
     "output_type": "execute_result"
    }
   ],
   "source": [
    "links['agency_name'][350]"
   ]
  },
  {
   "cell_type": "code",
   "execution_count": 541,
   "metadata": {},
   "outputs": [
    {
     "data": {
      "text/plain": [
       "'killme'"
      ]
     },
     "execution_count": 541,
     "metadata": {},
     "output_type": "execute_result"
    }
   ],
   "source": [
    "links['agency_name'][0]"
   ]
  },
  {
   "cell_type": "code",
   "execution_count": 542,
   "metadata": {},
   "outputs": [],
   "source": [
    "links=links.loc[links['agency_name']!='killme']"
   ]
  },
  {
   "cell_type": "code",
   "execution_count": 543,
   "metadata": {},
   "outputs": [
    {
     "data": {
      "text/plain": [
       "443"
      ]
     },
     "execution_count": 543,
     "metadata": {},
     "output_type": "execute_result"
    }
   ],
   "source": [
    "len(links)"
   ]
  },
  {
   "cell_type": "code",
   "execution_count": 544,
   "metadata": {},
   "outputs": [
    {
     "data": {
      "text/html": [
       "<div>\n",
       "<style scoped>\n",
       "    .dataframe tbody tr th:only-of-type {\n",
       "        vertical-align: middle;\n",
       "    }\n",
       "\n",
       "    .dataframe tbody tr th {\n",
       "        vertical-align: top;\n",
       "    }\n",
       "\n",
       "    .dataframe thead th {\n",
       "        text-align: right;\n",
       "    }\n",
       "</style>\n",
       "<table border=\"1\" class=\"dataframe\">\n",
       "  <thead>\n",
       "    <tr style=\"text-align: right;\">\n",
       "      <th></th>\n",
       "      <th>0</th>\n",
       "      <th>agency_name</th>\n",
       "    </tr>\n",
       "  </thead>\n",
       "  <tbody>\n",
       "    <tr>\n",
       "      <th>16</th>\n",
       "      <td>https://www.federalregister.gov/agencies/secur...</td>\n",
       "      <td>securities-and-exchange-commission</td>\n",
       "    </tr>\n",
       "    <tr>\n",
       "      <th>26</th>\n",
       "      <td>https://www.federalregister.gov/agencies/natio...</td>\n",
       "      <td>national-oceanic-and-atmospheric-administration</td>\n",
       "    </tr>\n",
       "    <tr>\n",
       "      <th>36</th>\n",
       "      <td>https://www.federalregister.gov/agencies/coast...</td>\n",
       "      <td>coast-guard</td>\n",
       "    </tr>\n",
       "    <tr>\n",
       "      <th>46</th>\n",
       "      <td>https://www.federalregister.gov/agencies/natio...</td>\n",
       "      <td>national-oceanic-and-atmospheric-administration</td>\n",
       "    </tr>\n",
       "    <tr>\n",
       "      <th>56</th>\n",
       "      <td>https://www.federalregister.gov/agencies/posta...</td>\n",
       "      <td>postal-regulatory-commission</td>\n",
       "    </tr>\n",
       "  </tbody>\n",
       "</table>\n",
       "</div>"
      ],
      "text/plain": [
       "                                                    0  \\\n",
       "16  https://www.federalregister.gov/agencies/secur...   \n",
       "26  https://www.federalregister.gov/agencies/natio...   \n",
       "36  https://www.federalregister.gov/agencies/coast...   \n",
       "46  https://www.federalregister.gov/agencies/natio...   \n",
       "56  https://www.federalregister.gov/agencies/posta...   \n",
       "\n",
       "                                        agency_name  \n",
       "16               securities-and-exchange-commission  \n",
       "26  national-oceanic-and-atmospheric-administration  \n",
       "36                                      coast-guard  \n",
       "46  national-oceanic-and-atmospheric-administration  \n",
       "56                     postal-regulatory-commission  "
      ]
     },
     "execution_count": 544,
     "metadata": {},
     "output_type": "execute_result"
    }
   ],
   "source": [
    "links.head()"
   ]
  },
  {
   "cell_type": "code",
   "execution_count": 558,
   "metadata": {},
   "outputs": [
    {
     "ename": "KeyError",
     "evalue": "'agency_name'",
     "output_type": "error",
     "traceback": [
      "\u001b[1;31m---------------------------------------------------------------------------\u001b[0m",
      "\u001b[1;31mTypeError\u001b[0m                                 Traceback (most recent call last)",
      "\u001b[1;32mpandas/_libs/index.pyx\u001b[0m in \u001b[0;36mpandas._libs.index.IndexEngine.get_loc\u001b[1;34m()\u001b[0m\n",
      "\u001b[1;32mpandas/_libs/hashtable_class_helper.pxi\u001b[0m in \u001b[0;36mpandas._libs.hashtable.Int64HashTable.get_item\u001b[1;34m()\u001b[0m\n",
      "\u001b[1;31mTypeError\u001b[0m: an integer is required",
      "\nDuring handling of the above exception, another exception occurred:\n",
      "\u001b[1;31mKeyError\u001b[0m                                  Traceback (most recent call last)",
      "\u001b[1;32m<ipython-input-558-6aeaeeb54ef5>\u001b[0m in \u001b[0;36m<module>\u001b[1;34m()\u001b[0m\n\u001b[1;32m----> 1\u001b[1;33m \u001b[0mlinks\u001b[0m\u001b[1;33m=\u001b[0m\u001b[0mlinks\u001b[0m\u001b[1;33m[\u001b[0m\u001b[1;34m'agency_name'\u001b[0m\u001b[1;33m]\u001b[0m\u001b[1;33m.\u001b[0m\u001b[0msort_values\u001b[0m\u001b[1;33m(\u001b[0m\u001b[0mascending\u001b[0m\u001b[1;33m=\u001b[0m\u001b[1;32mTrue\u001b[0m\u001b[1;33m)\u001b[0m\u001b[1;33m\u001b[0m\u001b[0m\n\u001b[0m",
      "\u001b[1;32m~\\AppData\\Local\\Continuum\\anaconda3\\lib\\site-packages\\pandas\\core\\series.py\u001b[0m in \u001b[0;36m__getitem__\u001b[1;34m(self, key)\u001b[0m\n\u001b[0;32m    621\u001b[0m         \u001b[0mkey\u001b[0m \u001b[1;33m=\u001b[0m \u001b[0mcom\u001b[0m\u001b[1;33m.\u001b[0m\u001b[0m_apply_if_callable\u001b[0m\u001b[1;33m(\u001b[0m\u001b[0mkey\u001b[0m\u001b[1;33m,\u001b[0m \u001b[0mself\u001b[0m\u001b[1;33m)\u001b[0m\u001b[1;33m\u001b[0m\u001b[0m\n\u001b[0;32m    622\u001b[0m         \u001b[1;32mtry\u001b[0m\u001b[1;33m:\u001b[0m\u001b[1;33m\u001b[0m\u001b[0m\n\u001b[1;32m--> 623\u001b[1;33m             \u001b[0mresult\u001b[0m \u001b[1;33m=\u001b[0m \u001b[0mself\u001b[0m\u001b[1;33m.\u001b[0m\u001b[0mindex\u001b[0m\u001b[1;33m.\u001b[0m\u001b[0mget_value\u001b[0m\u001b[1;33m(\u001b[0m\u001b[0mself\u001b[0m\u001b[1;33m,\u001b[0m \u001b[0mkey\u001b[0m\u001b[1;33m)\u001b[0m\u001b[1;33m\u001b[0m\u001b[0m\n\u001b[0m\u001b[0;32m    624\u001b[0m \u001b[1;33m\u001b[0m\u001b[0m\n\u001b[0;32m    625\u001b[0m             \u001b[1;32mif\u001b[0m \u001b[1;32mnot\u001b[0m \u001b[0mis_scalar\u001b[0m\u001b[1;33m(\u001b[0m\u001b[0mresult\u001b[0m\u001b[1;33m)\u001b[0m\u001b[1;33m:\u001b[0m\u001b[1;33m\u001b[0m\u001b[0m\n",
      "\u001b[1;32m~\\AppData\\Local\\Continuum\\anaconda3\\lib\\site-packages\\pandas\\core\\indexes\\base.py\u001b[0m in \u001b[0;36mget_value\u001b[1;34m(self, series, key)\u001b[0m\n\u001b[0;32m   2558\u001b[0m         \u001b[1;32mtry\u001b[0m\u001b[1;33m:\u001b[0m\u001b[1;33m\u001b[0m\u001b[0m\n\u001b[0;32m   2559\u001b[0m             return self._engine.get_value(s, k,\n\u001b[1;32m-> 2560\u001b[1;33m                                           tz=getattr(series.dtype, 'tz', None))\n\u001b[0m\u001b[0;32m   2561\u001b[0m         \u001b[1;32mexcept\u001b[0m \u001b[0mKeyError\u001b[0m \u001b[1;32mas\u001b[0m \u001b[0me1\u001b[0m\u001b[1;33m:\u001b[0m\u001b[1;33m\u001b[0m\u001b[0m\n\u001b[0;32m   2562\u001b[0m             \u001b[1;32mif\u001b[0m \u001b[0mlen\u001b[0m\u001b[1;33m(\u001b[0m\u001b[0mself\u001b[0m\u001b[1;33m)\u001b[0m \u001b[1;33m>\u001b[0m \u001b[1;36m0\u001b[0m \u001b[1;32mand\u001b[0m \u001b[0mself\u001b[0m\u001b[1;33m.\u001b[0m\u001b[0minferred_type\u001b[0m \u001b[1;32min\u001b[0m \u001b[1;33m[\u001b[0m\u001b[1;34m'integer'\u001b[0m\u001b[1;33m,\u001b[0m \u001b[1;34m'boolean'\u001b[0m\u001b[1;33m]\u001b[0m\u001b[1;33m:\u001b[0m\u001b[1;33m\u001b[0m\u001b[0m\n",
      "\u001b[1;32mpandas/_libs/index.pyx\u001b[0m in \u001b[0;36mpandas._libs.index.IndexEngine.get_value\u001b[1;34m()\u001b[0m\n",
      "\u001b[1;32mpandas/_libs/index.pyx\u001b[0m in \u001b[0;36mpandas._libs.index.IndexEngine.get_value\u001b[1;34m()\u001b[0m\n",
      "\u001b[1;32mpandas/_libs/index.pyx\u001b[0m in \u001b[0;36mpandas._libs.index.IndexEngine.get_loc\u001b[1;34m()\u001b[0m\n",
      "\u001b[1;31mKeyError\u001b[0m: 'agency_name'"
     ]
    }
   ],
   "source": [
    "links=links['agency_name'].sort_values(ascending=True)"
   ]
  },
  {
   "cell_type": "code",
   "execution_count": 559,
   "metadata": {},
   "outputs": [],
   "source": [
    "links.to_csv('federal_agencies.csv', index=False, header=True)"
   ]
  },
  {
   "cell_type": "code",
   "execution_count": 561,
   "metadata": {},
   "outputs": [
    {
     "data": {
      "text/html": [
       "<div>\n",
       "<style scoped>\n",
       "    .dataframe tbody tr th:only-of-type {\n",
       "        vertical-align: middle;\n",
       "    }\n",
       "\n",
       "    .dataframe tbody tr th {\n",
       "        vertical-align: top;\n",
       "    }\n",
       "\n",
       "    .dataframe thead th {\n",
       "        text-align: right;\n",
       "    }\n",
       "</style>\n",
       "<table border=\"1\" class=\"dataframe\">\n",
       "  <thead>\n",
       "    <tr style=\"text-align: right;\">\n",
       "      <th></th>\n",
       "      <th>agency_name</th>\n",
       "    </tr>\n",
       "  </thead>\n",
       "  <tbody>\n",
       "    <tr>\n",
       "      <th>0</th>\n",
       "      <td>action</td>\n",
       "    </tr>\n",
       "    <tr>\n",
       "      <th>1</th>\n",
       "      <td>administration-office-executive-office-of-the-...</td>\n",
       "    </tr>\n",
       "    <tr>\n",
       "      <th>2</th>\n",
       "      <td>administrative-conference-of-the-united-states</td>\n",
       "    </tr>\n",
       "    <tr>\n",
       "      <th>3</th>\n",
       "      <td>administrative-office-of-united-states-courts</td>\n",
       "    </tr>\n",
       "    <tr>\n",
       "      <th>4</th>\n",
       "      <td>advisory-council-on-historic-preservation</td>\n",
       "    </tr>\n",
       "    <tr>\n",
       "      <th>5</th>\n",
       "      <td>advocacy-and-outreach-office</td>\n",
       "    </tr>\n",
       "    <tr>\n",
       "      <th>6</th>\n",
       "      <td>african-development-foundation</td>\n",
       "    </tr>\n",
       "    <tr>\n",
       "      <th>7</th>\n",
       "      <td>agency-for-healthcare-research-and-quality</td>\n",
       "    </tr>\n",
       "    <tr>\n",
       "      <th>8</th>\n",
       "      <td>agency-for-international-development</td>\n",
       "    </tr>\n",
       "    <tr>\n",
       "      <th>9</th>\n",
       "      <td>agency-for-toxic-substances-and-disease-registry</td>\n",
       "    </tr>\n",
       "    <tr>\n",
       "      <th>10</th>\n",
       "      <td>aging-administration</td>\n",
       "    </tr>\n",
       "    <tr>\n",
       "      <th>11</th>\n",
       "      <td>agricultural-marketing-service</td>\n",
       "    </tr>\n",
       "    <tr>\n",
       "      <th>12</th>\n",
       "      <td>agricultural-research-service</td>\n",
       "    </tr>\n",
       "    <tr>\n",
       "      <th>13</th>\n",
       "      <td>agriculture-department</td>\n",
       "    </tr>\n",
       "    <tr>\n",
       "      <th>14</th>\n",
       "      <td>air-force-department</td>\n",
       "    </tr>\n",
       "    <tr>\n",
       "      <th>15</th>\n",
       "      <td>air-quality-national-commission</td>\n",
       "    </tr>\n",
       "    <tr>\n",
       "      <th>16</th>\n",
       "      <td>air-transportation-stabilization-board</td>\n",
       "    </tr>\n",
       "    <tr>\n",
       "      <th>17</th>\n",
       "      <td>alaska-power-administration</td>\n",
       "    </tr>\n",
       "    <tr>\n",
       "      <th>18</th>\n",
       "      <td>alcohol-and-tobacco-tax-and-trade-bureau</td>\n",
       "    </tr>\n",
       "    <tr>\n",
       "      <th>19</th>\n",
       "      <td>alcohol-tobacco-firearms-and-explosives-bureau</td>\n",
       "    </tr>\n",
       "    <tr>\n",
       "      <th>20</th>\n",
       "      <td>american-battle-monuments-commission</td>\n",
       "    </tr>\n",
       "    <tr>\n",
       "      <th>21</th>\n",
       "      <td>amtrak-reform-council</td>\n",
       "    </tr>\n",
       "    <tr>\n",
       "      <th>22</th>\n",
       "      <td>animal-and-plant-health-inspection-service</td>\n",
       "    </tr>\n",
       "    <tr>\n",
       "      <th>23</th>\n",
       "      <td>antitrust-division</td>\n",
       "    </tr>\n",
       "    <tr>\n",
       "      <th>24</th>\n",
       "      <td>antitrust-modernization-commission</td>\n",
       "    </tr>\n",
       "    <tr>\n",
       "      <th>25</th>\n",
       "      <td>appalachian-regional-commission</td>\n",
       "    </tr>\n",
       "    <tr>\n",
       "      <th>26</th>\n",
       "      <td>appalachian-states-low-level-radioactive-waste...</td>\n",
       "    </tr>\n",
       "    <tr>\n",
       "      <th>27</th>\n",
       "      <td>architect-of-the-capitol</td>\n",
       "    </tr>\n",
       "    <tr>\n",
       "      <th>28</th>\n",
       "      <td>architectural-and-transportation-barriers-comp...</td>\n",
       "    </tr>\n",
       "    <tr>\n",
       "      <th>29</th>\n",
       "      <td>arctic-research-commission</td>\n",
       "    </tr>\n",
       "    <tr>\n",
       "      <th>...</th>\n",
       "      <td>...</td>\n",
       "    </tr>\n",
       "    <tr>\n",
       "      <th>413</th>\n",
       "      <td>trade-representative-office-of-united-states</td>\n",
       "    </tr>\n",
       "    <tr>\n",
       "      <th>414</th>\n",
       "      <td>transportation-department</td>\n",
       "    </tr>\n",
       "    <tr>\n",
       "      <th>415</th>\n",
       "      <td>transportation-office</td>\n",
       "    </tr>\n",
       "    <tr>\n",
       "      <th>416</th>\n",
       "      <td>transportation-security-administration</td>\n",
       "    </tr>\n",
       "    <tr>\n",
       "      <th>417</th>\n",
       "      <td>transportation-statistics-bureau</td>\n",
       "    </tr>\n",
       "    <tr>\n",
       "      <th>418</th>\n",
       "      <td>travel-and-tourism-administration</td>\n",
       "    </tr>\n",
       "    <tr>\n",
       "      <th>419</th>\n",
       "      <td>treasury-department</td>\n",
       "    </tr>\n",
       "    <tr>\n",
       "      <th>420</th>\n",
       "      <td>twenty-first-century-workforce-commission</td>\n",
       "    </tr>\n",
       "    <tr>\n",
       "      <th>421</th>\n",
       "      <td>u-s-china-economic-and-security-review-commission</td>\n",
       "    </tr>\n",
       "    <tr>\n",
       "      <th>422</th>\n",
       "      <td>u-s-citizenship-and-immigration-services</td>\n",
       "    </tr>\n",
       "    <tr>\n",
       "      <th>423</th>\n",
       "      <td>u-s-customs-and-border-protection</td>\n",
       "    </tr>\n",
       "    <tr>\n",
       "      <th>424</th>\n",
       "      <td>u-s-house-of-representatives</td>\n",
       "    </tr>\n",
       "    <tr>\n",
       "      <th>425</th>\n",
       "      <td>u-s-immigration-and-customs-enforcement</td>\n",
       "    </tr>\n",
       "    <tr>\n",
       "      <th>426</th>\n",
       "      <td>u-s-trade-deficit-review-commission</td>\n",
       "    </tr>\n",
       "    <tr>\n",
       "      <th>427</th>\n",
       "      <td>uniformed-services-university-of-the-health-sc...</td>\n",
       "    </tr>\n",
       "    <tr>\n",
       "      <th>428</th>\n",
       "      <td>united-states-enrichment-corporation</td>\n",
       "    </tr>\n",
       "    <tr>\n",
       "      <th>429</th>\n",
       "      <td>united-states-information-agency</td>\n",
       "    </tr>\n",
       "    <tr>\n",
       "      <th>430</th>\n",
       "      <td>united-states-institute-of-peace</td>\n",
       "    </tr>\n",
       "    <tr>\n",
       "      <th>431</th>\n",
       "      <td>united-states-marshals-service</td>\n",
       "    </tr>\n",
       "    <tr>\n",
       "      <th>432</th>\n",
       "      <td>united-states-mint</td>\n",
       "    </tr>\n",
       "    <tr>\n",
       "      <th>433</th>\n",
       "      <td>united-states-sentencing-commission</td>\n",
       "    </tr>\n",
       "    <tr>\n",
       "      <th>434</th>\n",
       "      <td>utah-reclamation-mitigation-and-conservation-c...</td>\n",
       "    </tr>\n",
       "    <tr>\n",
       "      <th>435</th>\n",
       "      <td>valles-caldera-trust</td>\n",
       "    </tr>\n",
       "    <tr>\n",
       "      <th>436</th>\n",
       "      <td>veterans-affairs-department</td>\n",
       "    </tr>\n",
       "    <tr>\n",
       "      <th>437</th>\n",
       "      <td>veterans-employment-and-training-service</td>\n",
       "    </tr>\n",
       "    <tr>\n",
       "      <th>438</th>\n",
       "      <td>wage-and-hour-division</td>\n",
       "    </tr>\n",
       "    <tr>\n",
       "      <th>439</th>\n",
       "      <td>western-area-power-administration</td>\n",
       "    </tr>\n",
       "    <tr>\n",
       "      <th>440</th>\n",
       "      <td>women-s-business-enterprise-interagency-committee</td>\n",
       "    </tr>\n",
       "    <tr>\n",
       "      <th>441</th>\n",
       "      <td>women-s-progress-commemoration-commission</td>\n",
       "    </tr>\n",
       "    <tr>\n",
       "      <th>442</th>\n",
       "      <td>workers-compensation-programs-office</td>\n",
       "    </tr>\n",
       "  </tbody>\n",
       "</table>\n",
       "<p>443 rows × 1 columns</p>\n",
       "</div>"
      ],
      "text/plain": [
       "                                           agency_name\n",
       "0                                               action\n",
       "1    administration-office-executive-office-of-the-...\n",
       "2       administrative-conference-of-the-united-states\n",
       "3        administrative-office-of-united-states-courts\n",
       "4            advisory-council-on-historic-preservation\n",
       "5                         advocacy-and-outreach-office\n",
       "6                       african-development-foundation\n",
       "7           agency-for-healthcare-research-and-quality\n",
       "8                 agency-for-international-development\n",
       "9     agency-for-toxic-substances-and-disease-registry\n",
       "10                                aging-administration\n",
       "11                      agricultural-marketing-service\n",
       "12                       agricultural-research-service\n",
       "13                              agriculture-department\n",
       "14                                air-force-department\n",
       "15                     air-quality-national-commission\n",
       "16              air-transportation-stabilization-board\n",
       "17                         alaska-power-administration\n",
       "18            alcohol-and-tobacco-tax-and-trade-bureau\n",
       "19      alcohol-tobacco-firearms-and-explosives-bureau\n",
       "20                american-battle-monuments-commission\n",
       "21                               amtrak-reform-council\n",
       "22          animal-and-plant-health-inspection-service\n",
       "23                                  antitrust-division\n",
       "24                  antitrust-modernization-commission\n",
       "25                     appalachian-regional-commission\n",
       "26   appalachian-states-low-level-radioactive-waste...\n",
       "27                            architect-of-the-capitol\n",
       "28   architectural-and-transportation-barriers-comp...\n",
       "29                          arctic-research-commission\n",
       "..                                                 ...\n",
       "413       trade-representative-office-of-united-states\n",
       "414                          transportation-department\n",
       "415                              transportation-office\n",
       "416             transportation-security-administration\n",
       "417                   transportation-statistics-bureau\n",
       "418                  travel-and-tourism-administration\n",
       "419                                treasury-department\n",
       "420          twenty-first-century-workforce-commission\n",
       "421  u-s-china-economic-and-security-review-commission\n",
       "422           u-s-citizenship-and-immigration-services\n",
       "423                  u-s-customs-and-border-protection\n",
       "424                       u-s-house-of-representatives\n",
       "425            u-s-immigration-and-customs-enforcement\n",
       "426                u-s-trade-deficit-review-commission\n",
       "427  uniformed-services-university-of-the-health-sc...\n",
       "428               united-states-enrichment-corporation\n",
       "429                   united-states-information-agency\n",
       "430                   united-states-institute-of-peace\n",
       "431                     united-states-marshals-service\n",
       "432                                 united-states-mint\n",
       "433                united-states-sentencing-commission\n",
       "434  utah-reclamation-mitigation-and-conservation-c...\n",
       "435                               valles-caldera-trust\n",
       "436                        veterans-affairs-department\n",
       "437           veterans-employment-and-training-service\n",
       "438                             wage-and-hour-division\n",
       "439                  western-area-power-administration\n",
       "440  women-s-business-enterprise-interagency-committee\n",
       "441          women-s-progress-commemoration-commission\n",
       "442               workers-compensation-programs-office\n",
       "\n",
       "[443 rows x 1 columns]"
      ]
     },
     "execution_count": 561,
     "metadata": {},
     "output_type": "execute_result"
    }
   ],
   "source": [
    "pd.read_csv('federal_agencies.csv')"
   ]
  },
  {
   "cell_type": "code",
   "execution_count": null,
   "metadata": {},
   "outputs": [],
   "source": []
  }
 ],
 "metadata": {
  "kernelspec": {
   "display_name": "Python 3",
   "language": "python",
   "name": "python3"
  },
  "language_info": {
   "codemirror_mode": {
    "name": "ipython",
    "version": 3
   },
   "file_extension": ".py",
   "mimetype": "text/x-python",
   "name": "python",
   "nbconvert_exporter": "python",
   "pygments_lexer": "ipython3",
   "version": "3.6.4"
  }
 },
 "nbformat": 4,
 "nbformat_minor": 2
}
