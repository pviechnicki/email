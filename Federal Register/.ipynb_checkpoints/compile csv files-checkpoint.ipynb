{
 "cells": [
  {
   "cell_type": "code",
   "execution_count": 1,
   "metadata": {},
   "outputs": [],
   "source": [
    "import pandas as pd\n",
    "import os"
   ]
  },
  {
   "cell_type": "code",
   "execution_count": 2,
   "metadata": {},
   "outputs": [
    {
     "name": "stdout",
     "output_type": "stream",
     "text": [
      "fedreg_18-05-22-14-45.csv\n",
      "Index(['document_number', 'publication_date', 'agency_id', 'agency',\n",
      "       'subagency', 'title', 'abstract', 'type', 'excerpts', 'raw_name',\n",
      "       'slug', 'url', 'html_url', 'pdf_url', 'public_inspection_pdf_url',\n",
      "       'json_url', 'parent_id'],\n",
      "      dtype='object')\n",
      "fedreg_18-05-22-14-46.csv\n",
      "Index(['document_number', 'publication_date', 'agency_id', 'agency',\n",
      "       'subagency', 'title', 'abstract', 'type', 'excerpts', 'raw_name',\n",
      "       'slug', 'url', 'html_url', 'pdf_url', 'public_inspection_pdf_url',\n",
      "       'json_url', 'parent_id'],\n",
      "      dtype='object')\n",
      "fedreg_18-05-22-14-47.csv\n",
      "Index(['document_number', 'publication_date', 'agency_id', 'agency',\n",
      "       'subagency', 'title', 'abstract', 'type', 'excerpts', 'raw_name',\n",
      "       'slug', 'url', 'html_url', 'pdf_url', 'public_inspection_pdf_url',\n",
      "       'json_url', 'parent_id'],\n",
      "      dtype='object')\n",
      "fedreg_18-05-22-14-48.csv\n",
      "Index(['document_number', 'publication_date', 'agency_id', 'agency',\n",
      "       'subagency', 'title', 'abstract', 'type', 'excerpts', 'raw_name',\n",
      "       'slug', 'url', 'html_url', 'pdf_url', 'public_inspection_pdf_url',\n",
      "       'json_url', 'parent_id'],\n",
      "      dtype='object')\n",
      "fedreg_18-05-22-14-53.csv\n",
      "Index(['document_number', 'publication_date', 'agency_id', 'agency',\n",
      "       'subagency', 'title', 'abstract', 'type', 'excerpts', 'raw_name',\n",
      "       'slug', 'url', 'html_url', 'pdf_url', 'public_inspection_pdf_url',\n",
      "       'json_url', 'parent_id'],\n",
      "      dtype='object')\n"
     ]
    }
   ],
   "source": [
    "# Compile all the .csv's into a single pandas dataframe\n",
    "dirname = r'C:/Users/alasseter/Documents/Projects/CTxE/Federal Register/data/'\n",
    "files = os.listdir(dirname)\n",
    "\n",
    "COLUMN_NAMES = ['document_number', 'publication_date', 'agency_id', 'agency', 'subagency', \n",
    "        'title', 'abstract', 'type', 'excerpts', 'raw_name', 'slug', 'url', 'html_url', \n",
    "        'pdf_url', 'public_inspection_pdf_url',  'json_url', 'parent_id']\n",
    "df = pd.DataFrame(columns=COLUMN_NAMES)\n",
    "\n",
    "for file in files:\n",
    "    small_df = pd.read_csv(dirname + file)\n",
    "    print(file) # check the filenames are accurate\n",
    "    print(small_df.columns) # check the column names are accurate\n",
    "    df=pd.concat([df, small_df], ignore_index=True) # put them all together"
   ]
  },
  {
   "cell_type": "code",
   "execution_count": 3,
   "metadata": {},
   "outputs": [
    {
     "data": {
      "text/plain": [
       "(10000, 17)"
      ]
     },
     "execution_count": 3,
     "metadata": {},
     "output_type": "execute_result"
    }
   ],
   "source": [
    "df.shape"
   ]
  },
  {
   "cell_type": "code",
   "execution_count": 6,
   "metadata": {},
   "outputs": [],
   "source": [
    "df.to_csv(dirname + 'fedreg10k.csv', header=True, index=False)"
   ]
  },
  {
   "cell_type": "code",
   "execution_count": null,
   "metadata": {},
   "outputs": [],
   "source": []
  }
 ],
 "metadata": {
  "kernelspec": {
   "display_name": "Python 3",
   "language": "python",
   "name": "python3"
  },
  "language_info": {
   "codemirror_mode": {
    "name": "ipython",
    "version": 3
   },
   "file_extension": ".py",
   "mimetype": "text/x-python",
   "name": "python",
   "nbconvert_exporter": "python",
   "pygments_lexer": "ipython3",
   "version": "3.6.4"
  }
 },
 "nbformat": 4,
 "nbformat_minor": 2
}
