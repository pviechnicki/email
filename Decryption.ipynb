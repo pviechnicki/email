{
 "cells": [
  {
   "cell_type": "code",
   "execution_count": 7,
   "metadata": {},
   "outputs": [
    {
     "name": "stdout",
     "output_type": "stream",
     "text": [
      "b'VL\\xb9\\xfe\\xf3\\x0e\\xa7\\x8e\\xfb|\\xba+m\\x91,={\"birthId\":\"c46c7b2a-650f-491d-9759-51f6e73d34af\",\"metadata\":{\"attachments\":[],\"headers\":[{\"key\":\"X-MS-Exchange-MessageSentRepresentingType\",\"value\":\"1\"},{\"key\":\"X-MS-Exchange-Organization-AuthAs\",\"value\":\"Internal\"},{\"key\":\"X-MS-Exchange-Organization-AuthMechanism\",\"value\":\"04\"},{\"key\":\"X-MS-Exchange-Organization-AuthSource\",\"value\":\"SMSAPPSERVEX02.appservices.state.sdev\"},{\"key\":\"X-MS-Has-Attach\",\"value\":\"\"},{\"key\":\"X-MS-Exchange-Organization-SCL\",\"value\":\"-1\"},{\"key\":\"X-MS-TNEF-Correlator\",\"value\":\"\"},{\"key\":\"x-originating-ip\",\"value\":\"[10.30.30.128]\"}],\"message\":{\"messageId\":\"5ECBE49A2E2AD54D95FE4C45D62944A5B6D4BB30@SMSAPPSERVEX01.appservices.state.sdev\",\"subject\":\"RE: surfer boy: test\",\"priority\":\"Normal\",\"contentType\":\"multipart/alternative\",\"sentDate\":\"2017-10-02T22:03:29\",\"importance\":\"Normal\",\"plainTextBody\":\"In 1492, Columbus gave us a day off school\\\\r\\\\nWith 3 ships he sailed over, to give us a day off in October\\\\r\\\\n\\\\r\\\\n\\\\r\\\\n\\\\r\\\\nAshton Hobbs\\\\r\\\\nashton@schemasolutions.com<mailto:ashton@schemasolutions.com>\\\\r\\\\n336.508.7360\\\\r\\\\n\\\\r\\\\nU.S. Department of State, IRM/MSO\\\\r\\\\nVanguard 2.3.2 Collaboration and Messaging\\\\r\\\\nContract Software Development Engineer\\\\r\\\\n\\\\r\\\\nThis email is UNCLASSIFIED\\\\r\\\\nOfficial - SBU\\\\r\\\\nUNCLASSIFIED\\\\r\\\\nOfficial - SBU\\\\r\\\\nUNCLASSIFIED\\\\r\\\\n\\\\r\\\\n\"},\"properties\":[{\"key\":\"JournalReport\",\"values\":[\"Sender: HobbsA@state.sdev\\\\r\\\\nSubject: RE: surfer boy: test\\\\r\\\\nMessage-Id: <5ECBE49A2E2AD54D95FE4C45D62944A5B6D4BB30@SMSAPPSERVEX01.appservices.state.sdev>\\\\r\\\\nTo: GulaskeyCA@state.sdev\\\\r\\\\nCc: eRecJmbTEMP1Recip1@state.sdev, Expanded: eRecJmbTEMP1DL@state.sdev\\\\r\\\\n\"]},{\"key\":\"Sender\",\"values\":[\"{\\\\\"Name\\\\\":\\\\\"Ashton Hobbs\\\\\",\\\\\"Address\\\\\":\\\\\"HobbsA@state.sdev\\\\\",\\\\\"RoutingType\\\\\":\\\\\"SMTP\\\\\",\\\\\"MailboxType\\\\\":\\\\\"Mailbox\\\\\",\\\\\"Id\\\\\":null}\"]},{\"key\":\"SourceSystemId\",\"values\":[\"<5ECBE49A2E2AD54D95FE4C45D62944A5B6D4BB30@SMSAPPSERVEX01.appservices.state.sdev>\"]},{\"key\":\"IngestedFromMailbox\",\"values\":[\"eRecJmb1@state.sdev\",\"eRecJmbTEMP1@state.sdev\"]},{\"key\":\"BirthId\",\"values\":[\"c46c7b2a-650f-491d-9759-51f6e73d34af\"]},{\"key\":\"SizeInKb\",\"values\":[\"38.975\"]},{\"key\":\"ClientVersion\",\"values\":[\"1.0.0.0\"]},{\"key\":\"UserFqdn\",\"values\":[\"TFS\\\\\\\\hobbsa\"]},{\"key\":\"Classification\",\"values\":[\"Unclassified\"]},{\"key\":\"PortionClassification\",\"values\":[\"Unclassified\"]},{\"key\":\"MessageThreadClassification\",\"values\":[\"Unclassified\"]},{\"key\":\"NoForn\",\"values\":[\"False\"]},{\"key\":\"SbuReasons\",\"values\":[]},{\"key\":\"ClassificationAssigned\",\"values\":[\"ClientAssigned\"]},{\"key\":\"ThreadNoForn\",\"values\":[\"False\"]},{\"values\":[\"ReplyAll\",\"00000000EFC8A926D7EC6C4D8A2AB4BB4A22A49707006CBBD895AE4D95468713D85DBE210B50000000055D7C0000C7FB40EB727756448A8B5FB66CCCE543011E8CB74B020000\"]},{\"key\":\"AttachmentClassification\",\"values\":[\"None\"]},{\"key\":\"Sensitivity\",\"values\":[\"Sbu\"]},{\"key\":\"SensitivityAssigned\",\"values\":[\"ClientAssigned\"]},{\"key\":\"IsTransitory\",\"values\":[\"False\"]},{\"key\":\"AttachmentCount\",\"values\":[\"0\"]},{\"key\":\"IsCapstone\",\"values\":[\"False\"]},{\"key\":\"IsRecord\",\"values\":[\"True\"]},{\"key\":\"MetadataGenerated\",\"values\":[\"2017-11-13T16:26:07.2658687Z\"]},{\"key\":\"MetadataGeneratorVersion\",\"values\":[\"0.1.1113.1\"]},{\"key\":\"Source\",\"values\":[\"eRecJmb1@state.sdev\",\"eRecJmbTEMP1@state.sdev\"]},{\"key\":\"SourceType\",\"values\":[\"EmailExchange\"]},{\"key\":\"DispositionType\",\"values\":[\"Official\"]},{\"key\":\"DispositionDate\",\"values\":[\"2024-10-02T22:03:29Z\"]}],\"security\":{\"securityDescriptors\":[\"RECORD\",\"SENSITIVE\",\"UNCLASSIFIED\",\"POST-LONDON-SENDER\",\"COUNTRY-UNITED-KINGDOM-SENDER\",\"GEO-EUR-SENDER\",\"POST-QUITO\",\"POST-LONDON\",\"COUNTRY-ECUADOR\",\"COUNTRY-UNITED-KINGDOM\",\"GEO-WHA\",\"GEO-EUR\",\"POST-SECTION-RSO\",\"eRecords\"],\"signatures\":[]},\"users\":[{\"userRoles\":[\"JournaledCc\"],\"smtp\":\"eRecJmbTEMP1Recip1@state.sdev\",\"sourceDistributionList\":\"eRecJmbTEMP1DL@state.sdev\"},{\"userRoles\":[\"From\"],\"id\":33,\"originalSmtp\":\"HobbsA@state.sdev\",\"smtp\":\"HobbsA@state.sdev\",\"name\":\"Ashton Hobbs\",\"smtpValidFrom\":\"2016-11-29T23:00:37.89\",\"smtpValidTo\":\"9999-12-31T23:59:59.99\",\"isState\":true,\"isCapstone\":false,\"isDomestic\":true,\"firstName\":\"Ashton\",\"lastName\":\"Hobbs\",\"prefix\":\"Dr.\",\"suffix\":\"Jr.\",\"positionTitle\":\"Chief\",\"positionNumber\":\"1\",\"userValidFrom\":\"2017-11-06T22:48:50.52\",\"userValidTo\":\"9999-12-31T23:59:59.99\",\"fqdn\":\"washdc.state.sdev\\\\\\\\HobbsA\",\"orgUnit\":\"Dev,Users\",\"country\":\"United Kingdom\",\"company\":\"Schema\",\"department\":\"S/FSG\",\"departmentNumber\":\"Embassy London, England\",\"division\":\"S\",\"samAccountName\":\"HobbsA\",\"sid\":\"S-1-5-21-844754632-1471042128-820907728-1123\",\"postPk\":77,\"postName\":\"London\",\"postLocation\":\"London\",\"postType\":\"Embassy\",\"geoCode\":\"EUR\",\"geoDescription\":\"Europe & Eurasia\",\"emailHost\":\"state.sdev\",\"topLevelDomain\":\"sdev\"},{\"userRoles\":[\"To\"],\"id\":117,\"originalSmtp\":\"GulaskeyCA@state.sdev\",\"smtp\":\"GulaskeyCA@state.sdev\",\"name\":\"Chelsea Gulaskey\",\"smtpValidFrom\":\"2016-11-29T23:00:37.89\",\"smtpValidTo\":\"9999-12-31T23:59:59.99\",\"isState\":true,\"isCapstone\":false,\"isDomestic\":true,\"firstName\":\"Chelsea\",\"lastName\":\"Gulaskey\",\"middle\":\"A\",\"userValidFrom\":\"2017-11-06T22:48:50.52\",\"userValidTo\":\"9999-12-31T23:59:59.99\",\"userType\":\"Contractor\",\"fqdn\":\"appservices.state.sdev\\\\\\\\GulaskeyCA\",\"orgUnit\":\"Dev,Users\",\"country\":\"Ecuador\",\"department\":\"ECON\",\"departmentNumber\":\"Embassy Quito\",\"division\":\"RSO\",\"samAccountName\":\"GulaskeyCA\",\"sid\":\"S-1-5-21-1882444248-1716171173-4173963945-3636\",\"postPk\":17,\"postName\":\"Quito\",\"postLocation\":\"Quito\",\"postType\":\"Embassy\",\"geoCode\":\"WHA\",\"geoDescription\":\"Western Hemisphere\",\"emailHost\":\"state.sdev\",\"topLevelDomain\":\"sdev\",\"postSectionPk\":46,\"postSectionCode\":\"RSO\",\"postSectionName\":\"REGIONAL SECURITY OFFICE \",\"employeeTypePk\":3,\"employeeType\":\"Contractor\",\"employeeTypeLocation\":\"Domestic\"},{\"userRoles\":[\"Cc\"],\"id\":3239,\"originalSmtp\":\"eRecJmbTEMP1DL@state.sdev\",\"smtp\":\"eRecJmbTEMP1DL@state.sdev\",\"name\":\"eRecJmbTEMP1DL\",\"smtpValidFrom\":\"2017-11-06T22:48:50.69\",\"smtpValidTo\":\"9999-12-31T23:59:59.99\",\"isState\":true,\"isCapstone\":false,\"isDomestic\":true,\"userValidFrom\":\"2017-11-06T22:48:50.52\",\"userValidTo\":\"9999-12-31T23:59:59.99\",\"fqdn\":\"appservices.state.sdev\\\\\\\\eRecJmbTEMP1DL\",\"orgUnit\":\"Enterprise Services,eRecords,eRecords Groups\",\"samAccountName\":\"eRecJmbTEMP1DL\",\"sid\":\"S-1-5-21-1882444248-1716171173-4173963945-4185\",\"emailHost\":\"state.sdev\",\"topLevelDomain\":\"sdev\"}]},\"errata\":null,\"indexLocation\":\"email_official7yr_2017_m10\"}'\n"
     ]
    }
   ],
   "source": [
    "import base64\n",
    "from Crypto import Random\n",
    "from Crypto.Cipher import AES\n",
    "from Crypto.Protocol.KDF import PBKDF2\n",
    "\n",
    "BS = 128\n",
    "pad = lambda s: s + (BS - len(s) % BS) * chr(BS - len(s) % BS)\n",
    "unpad = lambda s : s[0:-s[-1]]\n",
    "\n",
    "\n",
    "class AESCipher:\n",
    "\n",
    "    def __init__( self, key ):\n",
    "        self.key = key.encode('utf-8')\n",
    "        #hashlib.sha256(key.encode('utf-8')).digest()\n",
    "\n",
    "    def encrypt( self, raw ):\n",
    "        raw = pad(raw)\n",
    "        iv = Random.new().read( AES.block_size )\n",
    "        cipher = AES.new( self.key, AES.MODE_CBC, iv )\n",
    "        return base64.b64encode( iv + cipher.encrypt( raw ) )\n",
    "\n",
    "    def decrypt( self, enc ):\n",
    "        enc = base64.b64decode(enc)        \n",
    "        # first 32 bytes are salt\n",
    "        salt = enc[:32]\n",
    "        # generate password using key and salt, 32 block size, 1000 iters        \n",
    "        password = PBKDF2(self.key, salt, 32, 1000)\n",
    "        # take first 32 bytes as the key\n",
    "        keyBytes = password[:32]\n",
    "        # use key and first 16 of password for the IV\n",
    "        cipher = AES.new(keyBytes, AES.MODE_CBC, password[:16] )\n",
    "        #return unpad(cipher.decrypt( enc[32:] ))\n",
    "        return unpad(cipher.decrypt(enc[32:]))\n",
    "\n",
    "\n",
    "cipher = AESCipher('deloitte')\n",
    "file = open(\"C:\\\\Users\\\\embicks\\\\Documents\\\\DOTCE\\\\DeloitteEncrypted.txt\", \"r\")\n",
    "txt = file.read()\n",
    "decrypted = cipher.decrypt(txt)\n",
    "print(decrypted)\n",
    "\n"
   ]
  },
  {
   "cell_type": "code",
   "execution_count": 6,
   "metadata": {},
   "outputs": [
    {
     "ename": "NameError",
     "evalue": "name 'decrypted' is not defined",
     "output_type": "error",
     "traceback": [
      "\u001b[1;31m---------------------------------------------------------------------------\u001b[0m",
      "\u001b[1;31mNameError\u001b[0m                                 Traceback (most recent call last)",
      "\u001b[1;32m<ipython-input-6-41b549702a01>\u001b[0m in \u001b[0;36m<module>\u001b[1;34m()\u001b[0m\n\u001b[1;32m----> 1\u001b[1;33m \u001b[0mprint\u001b[0m\u001b[1;33m(\u001b[0m\u001b[0mdecrypted\u001b[0m\u001b[1;33m)\u001b[0m\u001b[1;33m\u001b[0m\u001b[0m\n\u001b[0m",
      "\u001b[1;31mNameError\u001b[0m: name 'decrypted' is not defined"
     ]
    }
   ],
   "source": []
  },
  {
   "cell_type": "code",
   "execution_count": null,
   "metadata": {
    "collapsed": true
   },
   "outputs": [],
   "source": []
  }
 ],
 "metadata": {
  "kernelspec": {
   "display_name": "Python 3",
   "language": "python",
   "name": "python3"
  },
  "language_info": {
   "codemirror_mode": {
    "name": "ipython",
    "version": 3
   },
   "file_extension": ".py",
   "mimetype": "text/x-python",
   "name": "python",
   "nbconvert_exporter": "python",
   "pygments_lexer": "ipython3",
   "version": "3.6.1"
  }
 },
 "nbformat": 4,
 "nbformat_minor": 2
}
